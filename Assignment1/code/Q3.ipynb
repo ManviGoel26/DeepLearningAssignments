{
  "cells": [
    {
      "cell_type": "code",
      "execution_count": 1,
      "metadata": {
        "id": "8Zr0MoDqq5kD"
      },
      "outputs": [
        {
          "name": "stderr",
          "output_type": "stream",
          "text": [
            "2022-03-01 09:18:05.969156: W tensorflow/stream_executor/platform/default/dso_loader.cc:64] Could not load dynamic library 'libcudart.so.11.0'; dlerror: libcudart.so.11.0: cannot open shared object file: No such file or directory\n",
            "2022-03-01 09:18:05.969241: I tensorflow/stream_executor/cuda/cudart_stub.cc:29] Ignore above cudart dlerror if you do not have a GPU set up on your machine.\n"
          ]
        },
        {
          "data": {
            "text/plain": [
              "'\\n\\n    MyNeuralNetwork - class for MLP classfier defined in toolkit.py\\n   \\n'"
            ]
          },
          "execution_count": 1,
          "metadata": {},
          "output_type": "execute_result"
        }
      ],
      "source": [
        "# importing all libraries\n",
        "import numpy as np\n",
        "import tensorflow as tf\n",
        "import matplotlib.pyplot as plt\n",
        "from keras.utils.np_utils import to_categorical\n",
        "from random import seed\n",
        "from sklearn.metrics import accuracy_score\n",
        "import pickle\n",
        "\n",
        "# importing python file having the class for MLP classifier\n",
        "from toolkit import *\n",
        "\n",
        "\"\"\"\n",
        "\n",
        "    MyNeuralNetwork - class for MLP classfier defined in toolkit.py\n",
        "   \n",
        "\"\"\""
      ]
    },
    {
      "cell_type": "code",
      "execution_count": 26,
      "metadata": {
        "colab": {
          "base_uri": "https://localhost:8080/"
        },
        "id": "mTmNqoKcrBof",
        "outputId": "b5ff6698-faae-4a9b-c2a9-9ae4d1f33c64"
      },
      "outputs": [],
      "source": [
        "# Reading the fashion mnist data into train and test sets\n",
        "np.random.seed(1)\n",
        "((x_train, y_train), (x_test, y_test)) = tf.keras.datasets.fashion_mnist.load_data()\n",
        "X = np.vstack((x_train, x_test))\n",
        "y = np.hstack((y_train, y_test))\n",
        "\n",
        "X = (X / 255) - 0.5\n",
        "X = X.reshape((-1, 784))"
      ]
    },
    {
      "cell_type": "code",
      "execution_count": 27,
      "metadata": {
        "id": "20HhldKgrByI"
      },
      "outputs": [],
      "source": [
        "# Splitting into train, validation and test data\n",
        "np.random.seed(1)\n",
        "\n",
        "\n",
        "indices = list(range(X.shape[0]))\n",
        "training_instances = int(0.7 * X.shape[0])\n",
        "validation_instances = int(0.1 * X.shape[0])\n",
        "np.random.shuffle(indices)\n",
        "train = indices[:training_instances]\n",
        "validation = indices[training_instances:training_instances + validation_instances + 1]\n",
        "test = indices[training_instances + validation_instances + 1:]\n",
        "\n",
        "y = to_categorical(y)\n",
        "\n",
        "X_train, X_validation, X_test = X[train], X[validation], X[test]\n",
        "y_train, y_validation, y_test = y[train], y[validation], y[test]\n"
      ]
    },
    {
      "cell_type": "code",
      "execution_count": 28,
      "metadata": {
        "colab": {
          "base_uri": "https://localhost:8080/"
        },
        "id": "sWTCmnK-R7P5",
        "outputId": "ba20e91d-2ff2-4040-9430-832b4c340779"
      },
      "outputs": [
        {
          "data": {
            "text/plain": [
              "((49000, 784), (7001, 784), (13999, 784), (49000, 10), (7001, 10), (13999, 10))"
            ]
          },
          "execution_count": 28,
          "metadata": {},
          "output_type": "execute_result"
        }
      ],
      "source": [
        "X_train.shape, X_validation.shape, X_test.shape , y_train.shape, y_validation.shape, y_test.shape"
      ]
    },
    {
      "cell_type": "code",
      "execution_count": null,
      "metadata": {
        "id": "7Wwo9dcpxmyY"
      },
      "outputs": [],
      "source": []
    },
    {
      "cell_type": "code",
      "execution_count": 29,
      "metadata": {
        "id": "am5fN-KB9W9z"
      },
      "outputs": [],
      "source": [
        "\"\"\"\n",
        " Performing experiment by varying the learning rate for tanh activation\n",
        " \n",
        "\"\"\"\n",
        "Experimental_Nets = [ \n",
        "                  MyNeuralNetwork(4, [784, 256, 64, 10], \"tanh\", 0.001, \"random\", X_train.shape[0], num_epochs =15,optimizers = \"GD\"),\n",
        "                  MyNeuralNetwork(4, [784, 256, 64, 10], \"tanh\", 0.01, \"random\", X_train.shape[0], num_epochs =15, optimizers = \"GD\"),\n",
        "                  MyNeuralNetwork(4, [784, 256, 64, 10], \"tanh\", 0.1, \"random\", X_train.shape[0], num_epochs=15,optimizers = \"GD\"),\n",
        "                  MyNeuralNetwork(4, [784, 256, 64, 10], \"tanh\", 1, \"random\", X_train.shape[0], num_epochs=15,optimizers = \"GD\")\n",
        "]"
      ]
    },
    {
      "cell_type": "code",
      "execution_count": 30,
      "metadata": {
        "colab": {
          "base_uri": "https://localhost:8080/"
        },
        "id": "bPj1DhMLxuGR",
        "outputId": "a1dfa677-12e9-4a22-8900-d3b6a118800e"
      },
      "outputs": [
        {
          "name": "stdout",
          "output_type": "stream",
          "text": [
            "for network- 0\n",
            "Epoch: 1, Time Spent: 4.44s, Validation Accuracy: 36.02%\n",
            "Epoch: 2, Time Spent: 7.75s, Validation Accuracy: 33.02%\n",
            "Epoch: 3, Time Spent: 11.88s, Validation Accuracy: 25.04%\n",
            "Epoch: 4, Time Spent: 17.21s, Validation Accuracy: 9.60%\n",
            "Epoch: 5, Time Spent: 22.58s, Validation Accuracy: 9.60%\n",
            "Epoch: 6, Time Spent: 27.87s, Validation Accuracy: 9.60%\n",
            "Epoch: 7, Time Spent: 32.74s, Validation Accuracy: 9.56%\n",
            "Epoch: 8, Time Spent: 37.61s, Validation Accuracy: 9.56%\n",
            "Epoch: 9, Time Spent: 42.18s, Validation Accuracy: 9.56%\n",
            "Epoch: 10, Time Spent: 47.10s, Validation Accuracy: 9.56%\n",
            "Epoch: 11, Time Spent: 51.53s, Validation Accuracy: 9.56%\n",
            "Epoch: 12, Time Spent: 56.21s, Validation Accuracy: 9.56%\n",
            "Epoch: 13, Time Spent: 60.88s, Validation Accuracy: 9.56%\n",
            "Epoch: 14, Time Spent: 65.36s, Validation Accuracy: 9.56%\n",
            "Epoch: 15, Time Spent: 70.21s, Validation Accuracy: 9.56%\n",
            "test accuracy: 9.786413315236803\n",
            "##################################################################################\n",
            "\n",
            "\n",
            "for network- 1\n",
            "Epoch: 1, Time Spent: 3.36s, Validation Accuracy: 25.30%\n",
            "Epoch: 2, Time Spent: 8.23s, Validation Accuracy: 15.73%\n",
            "Epoch: 3, Time Spent: 13.08s, Validation Accuracy: 10.18%\n",
            "Epoch: 4, Time Spent: 16.60s, Validation Accuracy: 11.47%\n",
            "Epoch: 5, Time Spent: 20.21s, Validation Accuracy: 14.90%\n"
          ]
        },
        {
          "name": "stderr",
          "output_type": "stream",
          "text": [
            "/home/god_ert/Documents/assignments/DL/Assg1/Codes/toolkit.py:107: RuntimeWarning: invalid value encountered in true_divide\n",
            "  return f / f.sum(axis=0)\n",
            "/home/god_ert/Documents/assignments/DL/Assg1/Codes/toolkit.py:124: RuntimeWarning: invalid value encountered in true_divide\n",
            "  return exp_element/np.sum(exp_element, axis = 0)*(1 - exp_element/np.sum(exp_element, axis = 0))\n"
          ]
        },
        {
          "name": "stdout",
          "output_type": "stream",
          "text": [
            "Epoch: 6, Time Spent: 23.40s, Validation Accuracy: 10.37%\n",
            "Epoch: 7, Time Spent: 26.26s, Validation Accuracy: 10.37%\n",
            "Epoch: 8, Time Spent: 29.09s, Validation Accuracy: 10.37%\n",
            "Epoch: 9, Time Spent: 32.52s, Validation Accuracy: 10.37%\n",
            "Epoch: 10, Time Spent: 35.50s, Validation Accuracy: 10.37%\n",
            "Epoch: 11, Time Spent: 38.50s, Validation Accuracy: 10.37%\n",
            "Epoch: 12, Time Spent: 41.26s, Validation Accuracy: 10.37%\n",
            "Epoch: 13, Time Spent: 44.03s, Validation Accuracy: 10.37%\n",
            "Epoch: 14, Time Spent: 46.99s, Validation Accuracy: 10.37%\n",
            "Epoch: 15, Time Spent: 49.92s, Validation Accuracy: 10.37%\n",
            "test accuracy: 10.27216229730695\n",
            "##################################################################################\n",
            "\n",
            "\n",
            "for network- 2\n",
            "Epoch: 1, Time Spent: 2.97s, Validation Accuracy: 12.63%\n"
          ]
        },
        {
          "name": "stderr",
          "output_type": "stream",
          "text": [
            "/home/god_ert/Documents/assignments/DL/Assg1/Codes/toolkit.py:107: RuntimeWarning: invalid value encountered in true_divide\n",
            "  return f / f.sum(axis=0)\n"
          ]
        },
        {
          "name": "stdout",
          "output_type": "stream",
          "text": [
            "Epoch: 2, Time Spent: 7.01s, Validation Accuracy: 10.33%\n"
          ]
        },
        {
          "name": "stderr",
          "output_type": "stream",
          "text": [
            "/home/god_ert/Documents/assignments/DL/Assg1/Codes/toolkit.py:124: RuntimeWarning: invalid value encountered in true_divide\n",
            "  return exp_element/np.sum(exp_element, axis = 0)*(1 - exp_element/np.sum(exp_element, axis = 0))\n"
          ]
        },
        {
          "name": "stdout",
          "output_type": "stream",
          "text": [
            "Epoch: 3, Time Spent: 9.94s, Validation Accuracy: 10.37%\n",
            "Epoch: 4, Time Spent: 12.91s, Validation Accuracy: 10.37%\n",
            "Epoch: 5, Time Spent: 16.30s, Validation Accuracy: 10.37%\n",
            "Epoch: 6, Time Spent: 20.25s, Validation Accuracy: 10.37%\n",
            "Epoch: 7, Time Spent: 23.31s, Validation Accuracy: 10.37%\n",
            "Epoch: 8, Time Spent: 26.62s, Validation Accuracy: 10.37%\n",
            "Epoch: 9, Time Spent: 30.20s, Validation Accuracy: 10.37%\n",
            "Epoch: 10, Time Spent: 33.73s, Validation Accuracy: 10.37%\n",
            "Epoch: 11, Time Spent: 38.63s, Validation Accuracy: 10.37%\n",
            "Epoch: 12, Time Spent: 43.32s, Validation Accuracy: 10.37%\n",
            "Epoch: 13, Time Spent: 46.47s, Validation Accuracy: 10.37%\n",
            "Epoch: 14, Time Spent: 49.33s, Validation Accuracy: 10.37%\n",
            "Epoch: 15, Time Spent: 52.39s, Validation Accuracy: 10.37%\n",
            "test accuracy: 10.27216229730695\n",
            "##################################################################################\n",
            "\n",
            "\n",
            "for network- 3\n",
            "Epoch: 1, Time Spent: 2.81s, Validation Accuracy: 13.87%\n"
          ]
        },
        {
          "name": "stderr",
          "output_type": "stream",
          "text": [
            "/home/god_ert/Documents/assignments/DL/Assg1/Codes/toolkit.py:107: RuntimeWarning: invalid value encountered in true_divide\n",
            "  return f / f.sum(axis=0)\n"
          ]
        },
        {
          "name": "stdout",
          "output_type": "stream",
          "text": [
            "Epoch: 2, Time Spent: 7.24s, Validation Accuracy: 9.56%\n"
          ]
        },
        {
          "name": "stderr",
          "output_type": "stream",
          "text": [
            "/home/god_ert/Documents/assignments/DL/Assg1/Codes/toolkit.py:124: RuntimeWarning: invalid value encountered in true_divide\n",
            "  return exp_element/np.sum(exp_element, axis = 0)*(1 - exp_element/np.sum(exp_element, axis = 0))\n"
          ]
        },
        {
          "name": "stdout",
          "output_type": "stream",
          "text": [
            "Epoch: 3, Time Spent: 11.12s, Validation Accuracy: 10.37%\n",
            "Epoch: 4, Time Spent: 15.26s, Validation Accuracy: 10.37%\n",
            "Epoch: 5, Time Spent: 19.34s, Validation Accuracy: 10.37%\n",
            "Epoch: 6, Time Spent: 22.90s, Validation Accuracy: 10.37%\n",
            "Epoch: 7, Time Spent: 26.14s, Validation Accuracy: 10.37%\n",
            "Epoch: 8, Time Spent: 29.61s, Validation Accuracy: 10.37%\n",
            "Epoch: 9, Time Spent: 33.10s, Validation Accuracy: 10.37%\n",
            "Epoch: 10, Time Spent: 36.89s, Validation Accuracy: 10.37%\n",
            "Epoch: 11, Time Spent: 41.19s, Validation Accuracy: 10.37%\n",
            "Epoch: 12, Time Spent: 45.07s, Validation Accuracy: 10.37%\n",
            "Epoch: 13, Time Spent: 48.47s, Validation Accuracy: 10.37%\n",
            "Epoch: 14, Time Spent: 52.21s, Validation Accuracy: 10.37%\n",
            "Epoch: 15, Time Spent: 56.79s, Validation Accuracy: 10.37%\n",
            "test accuracy: 10.27216229730695\n",
            "##################################################################################\n",
            "\n",
            "\n"
          ]
        }
      ],
      "source": [
        "\"\"\"\n",
        "  training the experimental models defined above and\n",
        "  finally printing the testing accuracy for each model\n",
        "\"\"\"\n",
        "for i in range(4):\n",
        "  myNet = Experimental_Nets[i]\n",
        "  print('for network-',i)\n",
        "  \n",
        "  validationLoss, trainLoss = myNet.fit(X_train, y_train, X_validation, y_validation)\n",
        "  y_pred = myNet.predict(X_test) \n",
        "  y_test2 = np.argmax(y_test, axis = 1)\n",
        "\n",
        "  print(\"test accuracy:\",100*accuracy_score(y_pred, y_test2))\n",
        "  print('##################################################################################\\n\\n')\n"
      ]
    },
    {
      "cell_type": "code",
      "execution_count": 39,
      "metadata": {
        "colab": {
          "base_uri": "https://localhost:8080/",
          "height": 338
        },
        "id": "ik9Ujl66xt8F",
        "outputId": "5fa8a208-7259-4289-d0c7-bb586039dd34"
      },
      "outputs": [
        {
          "data": {
            "text/plain": [
              "[<matplotlib.lines.Line2D at 0x7f88b22d8a90>]"
            ]
          },
          "execution_count": 39,
          "metadata": {},
          "output_type": "execute_result"
        },
        {
          "data": {
            "image/png": "[encoded data removed]",
            "text/plain": [
              "<Figure size 576x360 with 1 Axes>"
            ]
          },
          "metadata": {
            "needs_background": "light"
          },
          "output_type": "display_data"
        }
      ],
      "source": [
        "# Epoch vs Accuracy for above models \n",
        "X = [2,4,6,8]\n",
        "Y = [9.786413315236803,10.27216229730695,10.27216229730695,10.27216229730695]\n",
        "\n",
        "plt.figure(figsize=(8,5))\n",
        "plt.ylabel(\"Accuracy\")\n",
        "\n",
        "for i in range(4):\n",
        "  plt.text(X[i],Y[i],\"Model\"+str(i+1),color='red',fontdict={'size':'16'})\n",
        "\n",
        "\n",
        "plt.plot(X,Y,'bo-')\n"
      ]
    },
    {
      "cell_type": "code",
      "execution_count": null,
      "metadata": {
        "id": "Uxu9U2cHJLI9"
      },
      "outputs": [],
      "source": []
    },
    {
      "cell_type": "code",
      "execution_count": null,
      "metadata": {
        "id": "pVYg4bJsJLEh"
      },
      "outputs": [],
      "source": []
    },
    {
      "cell_type": "code",
      "execution_count": 31,
      "metadata": {
        "id": "ifwMiLr1xe55"
      },
      "outputs": [],
      "source": [
        "\"\"\"\n",
        " Performing experiment by varying the learning rate for relu activation\n",
        "\"\"\"\n",
        "\n",
        "Experimental_Nets = [ \n",
        "                  MyNeuralNetwork(4, [784, 256, 64, 10], \"relu\", 0.001, \"random\", X_train.shape[0], num_epochs =15,optimizers = \"GD\"),\n",
        "                  MyNeuralNetwork(4, [784, 256, 64, 10], \"relu\", 0.01, \"random\", X_train.shape[0], num_epochs =15, optimizers = \"GD\"),\n",
        "                  MyNeuralNetwork(4, [784, 256, 64, 10], \"relu\", 0.1, \"random\", X_train.shape[0], num_epochs=15,optimizers = \"GD\"),\n",
        "                  MyNeuralNetwork(4, [784, 256, 64, 10], \"relu\", 1, \"random\", X_train.shape[0], num_epochs=15,optimizers = \"GD\")\n",
        "]"
      ]
    },
    {
      "cell_type": "code",
      "execution_count": 32,
      "metadata": {
        "colab": {
          "base_uri": "https://localhost:8080/"
        },
        "id": "2PLySUlFybji",
        "outputId": "025d9258-4174-455e-e983-ceef2344444a"
      },
      "outputs": [
        {
          "name": "stdout",
          "output_type": "stream",
          "text": [
            "for network- 0\n",
            "Epoch: 1, Time Spent: 3.21s, Validation Accuracy: 11.53%\n",
            "Epoch: 2, Time Spent: 7.72s, Validation Accuracy: 20.35%\n",
            "Epoch: 3, Time Spent: 11.15s, Validation Accuracy: 25.10%\n",
            "Epoch: 4, Time Spent: 15.04s, Validation Accuracy: 9.84%\n"
          ]
        },
        {
          "name": "stderr",
          "output_type": "stream",
          "text": [
            "/home/god_ert/Documents/assignments/DL/Assg1/Codes/toolkit.py:107: RuntimeWarning: invalid value encountered in true_divide\n",
            "  return f / f.sum(axis=0)\n"
          ]
        },
        {
          "name": "stdout",
          "output_type": "stream",
          "text": [
            "Epoch: 5, Time Spent: 19.41s, Validation Accuracy: 10.06%\n"
          ]
        },
        {
          "name": "stderr",
          "output_type": "stream",
          "text": [
            "/home/god_ert/Documents/assignments/DL/Assg1/Codes/toolkit.py:124: RuntimeWarning: invalid value encountered in true_divide\n",
            "  return exp_element/np.sum(exp_element, axis = 0)*(1 - exp_element/np.sum(exp_element, axis = 0))\n"
          ]
        },
        {
          "name": "stdout",
          "output_type": "stream",
          "text": [
            "Epoch: 6, Time Spent: 23.01s, Validation Accuracy: 10.37%\n",
            "Epoch: 7, Time Spent: 26.48s, Validation Accuracy: 10.37%\n",
            "Epoch: 8, Time Spent: 30.29s, Validation Accuracy: 10.37%\n",
            "Epoch: 9, Time Spent: 34.14s, Validation Accuracy: 10.37%\n",
            "Epoch: 10, Time Spent: 37.96s, Validation Accuracy: 10.37%\n",
            "Epoch: 11, Time Spent: 42.13s, Validation Accuracy: 10.37%\n",
            "Epoch: 12, Time Spent: 46.03s, Validation Accuracy: 10.37%\n",
            "Epoch: 13, Time Spent: 51.02s, Validation Accuracy: 10.37%\n",
            "Epoch: 14, Time Spent: 54.57s, Validation Accuracy: 10.37%\n",
            "Epoch: 15, Time Spent: 58.22s, Validation Accuracy: 10.37%\n",
            "test accuracy: 10.27216229730695\n",
            "##################################################################################\n",
            "\n",
            "\n",
            "for network- 1\n",
            "Epoch: 1, Time Spent: 5.15s, Validation Accuracy: 17.40%\n"
          ]
        },
        {
          "name": "stderr",
          "output_type": "stream",
          "text": [
            "/home/god_ert/Documents/assignments/DL/Assg1/Codes/toolkit.py:107: RuntimeWarning: invalid value encountered in true_divide\n",
            "  return f / f.sum(axis=0)\n"
          ]
        },
        {
          "name": "stdout",
          "output_type": "stream",
          "text": [
            "Epoch: 2, Time Spent: 9.63s, Validation Accuracy: 18.21%\n"
          ]
        },
        {
          "name": "stderr",
          "output_type": "stream",
          "text": [
            "/home/god_ert/Documents/assignments/DL/Assg1/Codes/toolkit.py:124: RuntimeWarning: invalid value encountered in true_divide\n",
            "  return exp_element/np.sum(exp_element, axis = 0)*(1 - exp_element/np.sum(exp_element, axis = 0))\n"
          ]
        },
        {
          "name": "stdout",
          "output_type": "stream",
          "text": [
            "Epoch: 3, Time Spent: 14.89s, Validation Accuracy: 10.37%\n",
            "Epoch: 4, Time Spent: 19.10s, Validation Accuracy: 10.37%\n",
            "Epoch: 5, Time Spent: 23.38s, Validation Accuracy: 10.37%\n",
            "Epoch: 6, Time Spent: 27.72s, Validation Accuracy: 10.37%\n",
            "Epoch: 7, Time Spent: 32.52s, Validation Accuracy: 10.37%\n",
            "Epoch: 8, Time Spent: 35.98s, Validation Accuracy: 10.37%\n",
            "Epoch: 9, Time Spent: 39.84s, Validation Accuracy: 10.37%\n",
            "Epoch: 10, Time Spent: 43.40s, Validation Accuracy: 10.37%\n",
            "Epoch: 11, Time Spent: 47.65s, Validation Accuracy: 10.37%\n",
            "Epoch: 12, Time Spent: 51.50s, Validation Accuracy: 10.37%\n",
            "Epoch: 13, Time Spent: 55.15s, Validation Accuracy: 10.37%\n",
            "Epoch: 14, Time Spent: 59.14s, Validation Accuracy: 10.37%\n",
            "Epoch: 15, Time Spent: 63.17s, Validation Accuracy: 10.37%\n",
            "test accuracy: 10.27216229730695\n",
            "##################################################################################\n",
            "\n",
            "\n",
            "for network- 2\n",
            "Epoch: 1, Time Spent: 3.74s, Validation Accuracy: 13.10%\n"
          ]
        },
        {
          "name": "stderr",
          "output_type": "stream",
          "text": [
            "/home/god_ert/Documents/assignments/DL/Assg1/Codes/toolkit.py:107: RuntimeWarning: invalid value encountered in true_divide\n",
            "  return f / f.sum(axis=0)\n"
          ]
        },
        {
          "name": "stdout",
          "output_type": "stream",
          "text": [
            "Epoch: 2, Time Spent: 8.05s, Validation Accuracy: 10.37%\n"
          ]
        },
        {
          "name": "stderr",
          "output_type": "stream",
          "text": [
            "/home/god_ert/Documents/assignments/DL/Assg1/Codes/toolkit.py:124: RuntimeWarning: invalid value encountered in true_divide\n",
            "  return exp_element/np.sum(exp_element, axis = 0)*(1 - exp_element/np.sum(exp_element, axis = 0))\n"
          ]
        },
        {
          "name": "stdout",
          "output_type": "stream",
          "text": [
            "Epoch: 3, Time Spent: 13.89s, Validation Accuracy: 10.37%\n",
            "Epoch: 4, Time Spent: 20.13s, Validation Accuracy: 10.37%\n",
            "Epoch: 5, Time Spent: 25.82s, Validation Accuracy: 10.37%\n",
            "Epoch: 6, Time Spent: 29.07s, Validation Accuracy: 10.37%\n",
            "Epoch: 7, Time Spent: 32.65s, Validation Accuracy: 10.37%\n",
            "Epoch: 8, Time Spent: 39.55s, Validation Accuracy: 10.37%\n",
            "Epoch: 9, Time Spent: 44.59s, Validation Accuracy: 10.37%\n",
            "Epoch: 10, Time Spent: 48.57s, Validation Accuracy: 10.37%\n",
            "Epoch: 11, Time Spent: 52.07s, Validation Accuracy: 10.37%\n",
            "Epoch: 12, Time Spent: 55.56s, Validation Accuracy: 10.37%\n",
            "Epoch: 13, Time Spent: 58.95s, Validation Accuracy: 10.37%\n",
            "Epoch: 14, Time Spent: 62.05s, Validation Accuracy: 10.37%\n",
            "Epoch: 15, Time Spent: 65.38s, Validation Accuracy: 10.37%\n",
            "test accuracy: 10.27216229730695\n",
            "##################################################################################\n",
            "\n",
            "\n",
            "for network- 3\n"
          ]
        },
        {
          "name": "stderr",
          "output_type": "stream",
          "text": [
            "/home/god_ert/Documents/assignments/DL/Assg1/Codes/toolkit.py:107: RuntimeWarning: invalid value encountered in true_divide\n",
            "  return f / f.sum(axis=0)\n"
          ]
        },
        {
          "name": "stdout",
          "output_type": "stream",
          "text": [
            "Epoch: 1, Time Spent: 2.73s, Validation Accuracy: 10.40%\n"
          ]
        },
        {
          "name": "stderr",
          "output_type": "stream",
          "text": [
            "/home/god_ert/Documents/assignments/DL/Assg1/Codes/toolkit.py:124: RuntimeWarning: invalid value encountered in true_divide\n",
            "  return exp_element/np.sum(exp_element, axis = 0)*(1 - exp_element/np.sum(exp_element, axis = 0))\n"
          ]
        },
        {
          "name": "stdout",
          "output_type": "stream",
          "text": [
            "Epoch: 2, Time Spent: 7.01s, Validation Accuracy: 10.37%\n",
            "Epoch: 3, Time Spent: 10.89s, Validation Accuracy: 10.37%\n",
            "Epoch: 4, Time Spent: 14.43s, Validation Accuracy: 10.37%\n",
            "Epoch: 5, Time Spent: 18.56s, Validation Accuracy: 10.37%\n",
            "Epoch: 6, Time Spent: 22.27s, Validation Accuracy: 10.37%\n",
            "Epoch: 7, Time Spent: 26.20s, Validation Accuracy: 10.37%\n",
            "Epoch: 8, Time Spent: 29.55s, Validation Accuracy: 10.37%\n",
            "Epoch: 9, Time Spent: 33.15s, Validation Accuracy: 10.37%\n",
            "Epoch: 10, Time Spent: 37.06s, Validation Accuracy: 10.37%\n",
            "Epoch: 11, Time Spent: 40.60s, Validation Accuracy: 10.37%\n",
            "Epoch: 12, Time Spent: 43.62s, Validation Accuracy: 10.37%\n",
            "Epoch: 13, Time Spent: 46.96s, Validation Accuracy: 10.37%\n",
            "Epoch: 14, Time Spent: 49.86s, Validation Accuracy: 10.37%\n",
            "Epoch: 15, Time Spent: 52.96s, Validation Accuracy: 10.37%\n",
            "test accuracy: 10.27216229730695\n",
            "##################################################################################\n",
            "\n",
            "\n"
          ]
        }
      ],
      "source": [
        "\"\"\"\n",
        "  training the experimental models defined above and\n",
        "  finally printing the testing accuracy for each model\n",
        "\"\"\"\n",
        "\n",
        "for i in range(4):\n",
        "  myNet = Experimental_Nets[i]\n",
        "  print('for network-',i)\n",
        "  \n",
        "  validationLoss, trainLoss = myNet.fit(X_train, y_train, X_validation, y_validation)\n",
        "  y_pred = myNet.predict(X_test) \n",
        "  y_test2 = np.argmax(y_test, axis = 1)\n",
        "\n",
        "  print(\"test accuracy:\",100*accuracy_score(y_pred, y_test2))\n",
        "  print('##################################################################################\\n\\n')\n"
      ]
    },
    {
      "cell_type": "code",
      "execution_count": 42,
      "metadata": {
        "colab": {
          "base_uri": "https://localhost:8080/",
          "height": 338
        },
        "id": "m1QP30FkOVEC",
        "outputId": "0481471d-50ba-4947-bf26-7cb3d91e97b0"
      },
      "outputs": [
        {
          "data": {
            "text/plain": [
              "[<matplotlib.lines.Line2D at 0x7f88b4ee7ee0>]"
            ]
          },
          "execution_count": 42,
          "metadata": {},
          "output_type": "execute_result"
        },
        {
          "data": {
            "image/png": "[encoded data removed]",
            "text/plain": [
              "<Figure size 576x360 with 1 Axes>"
            ]
          },
          "metadata": {
            "needs_background": "light"
          },
          "output_type": "display_data"
        }
      ],
      "source": [
        "# Epoch vsAccuracy plot fro above models\n",
        "X = [2,4,6,8]\n",
        "Y = [10.27216229730695,10.27216229730695,10.27216229730695,10.27216229730695]\n",
        "\n",
        "plt.figure(figsize=(8,5))\n",
        "plt.ylabel(\"Accuracy\")\n",
        "\n",
        "for i in range(4):\n",
        "  plt.text(X[i],Y[i],\"Model\"+str(i+1),color='red',fontdict={'size':'16'})\n",
        "\n",
        "\n",
        "plt.plot(X,Y,'bo-')"
      ]
    },
    {
      "cell_type": "code",
      "execution_count": null,
      "metadata": {
        "id": "6ZYnzThEOU37"
      },
      "outputs": [],
      "source": []
    },
    {
      "cell_type": "code",
      "execution_count": 34,
      "metadata": {
        "id": "wtz8cPkixezA"
      },
      "outputs": [],
      "source": [
        "\"\"\"\n",
        " Performing experiment by varying the learning rate for sigmoid activation\n",
        "\"\"\"\n",
        "Experimental_Nets = [ \n",
        "                  MyNeuralNetwork(4, [784, 256, 64, 10], \"sigmoid\", 0.001, \"random\", X_train.shape[0], num_epochs =15,optimizers = \"GD\"),\n",
        "                  MyNeuralNetwork(4, [784, 256, 64, 10], \"sigmoid\", 0.01, \"random\", X_train.shape[0], num_epochs =15, optimizers = \"GD\"),\n",
        "                  MyNeuralNetwork(4, [784, 256, 64, 10], \"sigmoid\", 0.1, \"random\", X_train.shape[0], num_epochs=15,optimizers = \"GD\"),\n",
        "                  MyNeuralNetwork(4, [784, 256, 64, 10], \"sigmoid\", 1, \"random\", X_train.shape[0], num_epochs=15,optimizers = \"GD\")\n",
        "]"
      ]
    },
    {
      "cell_type": "code",
      "execution_count": null,
      "metadata": {
        "colab": {
          "base_uri": "https://localhost:8080/"
        },
        "id": "b3YZCLsTxhJ2",
        "outputId": "525866af-fe79-4f57-db48-62c4d005c714"
      },
      "outputs": [],
      "source": [
        "\"\"\"\n",
        "  training the experimental models defined above and\n",
        "  finally printing the testing accuracy for each model\n",
        "\"\"\"\n",
        "\n",
        "for i in range(4):\n",
        "  myNet = Experimental_Nets[i]\n",
        "  print('for network-',i)\n",
        "  \n",
        "  validationLoss, trainLoss = myNet.fit(X_train, y_train, X_validation, y_validation)\n",
        "  y_pred = myNet.predict(X_test) \n",
        "  y_test2 = np.argmax(y_test, axis = 1)\n",
        "\n",
        "  print(\"test accuracy:\",100*accuracy_score(y_pred, y_test2))\n",
        "  print('##################################################################################\\n\\n')\n"
      ]
    },
    {
      "cell_type": "code",
      "execution_count": 40,
      "metadata": {
        "colab": {
          "base_uri": "https://localhost:8080/",
          "height": 338
        },
        "id": "zjXJLw3_ye66",
        "outputId": "465b17c6-47ea-4012-e778-17f2b5ffb4ad"
      },
      "outputs": [
        {
          "data": {
            "text/plain": [
              "[<matplotlib.lines.Line2D at 0x7f88b4f9af70>]"
            ]
          },
          "execution_count": 40,
          "metadata": {},
          "output_type": "execute_result"
        },
        {
          "data": {
            "image/png": "[encoded data removed]",
            "text/plain": [
              "<Figure size 576x360 with 1 Axes>"
            ]
          },
          "metadata": {
            "needs_background": "light"
          },
          "output_type": "display_data"
        }
      ],
      "source": [
        "# Epoch vs Accuracy plot for above models\n",
        "X = [2,4,6,8]\n",
        "Y = [8.56489749267805, 10.115008214872491, 9.779269947853418, 9.779269947853418]\n",
        "\n",
        "plt.figure(figsize=(8,5))\n",
        "plt.ylabel(\"Accuracy\")\n",
        "\n",
        "for i in range(4):\n",
        "  plt.text(X[i],Y[i],\"Model\"+str(i+1),color='red',fontdict={'size':'16'})\n",
        "\n",
        "\n",
        "plt.plot(X,Y,'bo-')"
      ]
    },
    {
      "cell_type": "code",
      "execution_count": null,
      "metadata": {
        "id": "ENLTea8BOfiK"
      },
      "outputs": [],
      "source": []
    },
    {
      "cell_type": "code",
      "execution_count": 43,
      "metadata": {
        "id": "RhLjKPClye32"
      },
      "outputs": [],
      "source": [
        "\"\"\"\n",
        " Performing experiment for different hidden layer configuration\n",
        " for the better performing activation funciton -tanh and sigmoid\n",
        "\"\"\"\n",
        "Experimental_Nets = [ \n",
        "                  MyNeuralNetwork(3, [784, 256, 10], \"tanh\", 0.001, \"random\", X_train.shape[0], num_epochs =15, optimizers = \"GD\"),\n",
        "                  MyNeuralNetwork(3, [784, 256, 10], \"sigmoid\", 0.001, \"random\", X_train.shape[0], num_epochs =15, optimizers = \"GD\"),\n",
        "                  MyNeuralNetwork(3, [784, 256, 10], \"tanh\", 0.01, \"random\", X_train.shape[0], num_epochs =15, optimizers = \"GD\"),\n",
        "                  MyNeuralNetwork(3, [784, 256, 10], \"sigmoid\", 0.01, \"random\", X_train.shape[0], num_epochs =15, optimizers = \"GD\"),\n",
        "]"
      ]
    },
    {
      "cell_type": "code",
      "execution_count": 44,
      "metadata": {
        "colab": {
          "base_uri": "https://localhost:8080/"
        },
        "id": "-oO-11En2bzX",
        "outputId": "4a0e48ce-e920-43d0-cc27-c520190bc736"
      },
      "outputs": [
        {
          "name": "stdout",
          "output_type": "stream",
          "text": [
            "for network- 0\n",
            "Epoch: 1, Time Spent: 5.29s, Validation Accuracy: 39.88%\n",
            "Epoch: 2, Time Spent: 8.04s, Validation Accuracy: 27.64%\n",
            "Epoch: 3, Time Spent: 10.57s, Validation Accuracy: 10.38%\n",
            "Epoch: 4, Time Spent: 13.17s, Validation Accuracy: 10.47%\n",
            "Epoch: 5, Time Spent: 15.78s, Validation Accuracy: 10.47%\n",
            "Epoch: 6, Time Spent: 18.29s, Validation Accuracy: 10.50%\n",
            "Epoch: 7, Time Spent: 21.33s, Validation Accuracy: 10.88%\n",
            "Epoch: 8, Time Spent: 24.37s, Validation Accuracy: 9.56%\n",
            "Epoch: 9, Time Spent: 27.62s, Validation Accuracy: 9.56%\n",
            "Epoch: 10, Time Spent: 31.05s, Validation Accuracy: 9.56%\n",
            "Epoch: 11, Time Spent: 34.38s, Validation Accuracy: 9.56%\n",
            "Epoch: 12, Time Spent: 37.46s, Validation Accuracy: 9.56%\n",
            "Epoch: 13, Time Spent: 40.79s, Validation Accuracy: 9.56%\n",
            "Epoch: 14, Time Spent: 44.31s, Validation Accuracy: 9.56%\n",
            "Epoch: 15, Time Spent: 47.70s, Validation Accuracy: 9.56%\n",
            "test accuracy: 9.779269947853418\n",
            "##################################################################################\n",
            "\n",
            "\n",
            "for network- 1\n",
            "Epoch: 1, Time Spent: 1.91s, Validation Accuracy: 9.68%\n",
            "Epoch: 2, Time Spent: 4.81s, Validation Accuracy: 10.46%\n",
            "Epoch: 3, Time Spent: 7.72s, Validation Accuracy: 23.30%\n",
            "Epoch: 4, Time Spent: 10.27s, Validation Accuracy: 17.55%\n",
            "Epoch: 5, Time Spent: 12.93s, Validation Accuracy: 21.34%\n",
            "Epoch: 6, Time Spent: 16.40s, Validation Accuracy: 25.48%\n",
            "Epoch: 7, Time Spent: 19.19s, Validation Accuracy: 26.32%\n",
            "Epoch: 8, Time Spent: 21.79s, Validation Accuracy: 22.24%\n",
            "Epoch: 9, Time Spent: 24.80s, Validation Accuracy: 32.10%\n",
            "Epoch: 10, Time Spent: 28.07s, Validation Accuracy: 11.01%\n",
            "Epoch: 11, Time Spent: 31.31s, Validation Accuracy: 26.41%\n",
            "Epoch: 12, Time Spent: 34.60s, Validation Accuracy: 12.38%\n",
            "Epoch: 13, Time Spent: 37.70s, Validation Accuracy: 18.01%\n",
            "Epoch: 14, Time Spent: 41.04s, Validation Accuracy: 12.20%\n",
            "Epoch: 15, Time Spent: 43.96s, Validation Accuracy: 9.98%\n",
            "test accuracy: 9.986427601971569\n",
            "##################################################################################\n",
            "\n",
            "\n",
            "for network- 2\n",
            "Epoch: 1, Time Spent: 1.87s, Validation Accuracy: 23.38%\n",
            "Epoch: 2, Time Spent: 5.54s, Validation Accuracy: 7.60%\n",
            "Epoch: 3, Time Spent: 9.25s, Validation Accuracy: 10.04%\n"
          ]
        },
        {
          "name": "stderr",
          "output_type": "stream",
          "text": [
            "/home/god_ert/Documents/assignments/DL/Assg1/Codes/toolkit.py:107: RuntimeWarning: invalid value encountered in true_divide\n",
            "  return f / f.sum(axis=0)\n",
            "/home/god_ert/Documents/assignments/DL/Assg1/Codes/toolkit.py:124: RuntimeWarning: invalid value encountered in true_divide\n",
            "  return exp_element/np.sum(exp_element, axis = 0)*(1 - exp_element/np.sum(exp_element, axis = 0))\n"
          ]
        },
        {
          "name": "stdout",
          "output_type": "stream",
          "text": [
            "Epoch: 4, Time Spent: 12.70s, Validation Accuracy: 10.37%\n",
            "Epoch: 5, Time Spent: 16.19s, Validation Accuracy: 10.37%\n",
            "Epoch: 6, Time Spent: 19.56s, Validation Accuracy: 10.37%\n",
            "Epoch: 7, Time Spent: 22.98s, Validation Accuracy: 10.37%\n",
            "Epoch: 8, Time Spent: 26.62s, Validation Accuracy: 10.37%\n",
            "Epoch: 9, Time Spent: 29.82s, Validation Accuracy: 10.37%\n",
            "Epoch: 10, Time Spent: 32.28s, Validation Accuracy: 10.37%\n",
            "Epoch: 11, Time Spent: 35.25s, Validation Accuracy: 10.37%\n",
            "Epoch: 12, Time Spent: 38.25s, Validation Accuracy: 10.37%\n",
            "Epoch: 13, Time Spent: 40.63s, Validation Accuracy: 10.37%\n",
            "Epoch: 14, Time Spent: 43.40s, Validation Accuracy: 10.37%\n",
            "Epoch: 15, Time Spent: 46.53s, Validation Accuracy: 10.37%\n",
            "test accuracy: 10.27216229730695\n",
            "##################################################################################\n",
            "\n",
            "\n",
            "for network- 3\n",
            "Epoch: 1, Time Spent: 2.20s, Validation Accuracy: 9.68%\n",
            "Epoch: 2, Time Spent: 5.28s, Validation Accuracy: 9.68%\n",
            "Epoch: 3, Time Spent: 8.30s, Validation Accuracy: 9.68%\n",
            "Epoch: 4, Time Spent: 11.45s, Validation Accuracy: 9.68%\n",
            "Epoch: 5, Time Spent: 14.71s, Validation Accuracy: 9.68%\n",
            "Epoch: 6, Time Spent: 18.02s, Validation Accuracy: 9.68%\n",
            "Epoch: 7, Time Spent: 21.47s, Validation Accuracy: 9.68%\n",
            "Epoch: 8, Time Spent: 24.68s, Validation Accuracy: 9.68%\n",
            "Epoch: 9, Time Spent: 27.69s, Validation Accuracy: 9.68%\n",
            "Epoch: 10, Time Spent: 30.85s, Validation Accuracy: 9.68%\n",
            "Epoch: 11, Time Spent: 33.93s, Validation Accuracy: 9.68%\n",
            "Epoch: 12, Time Spent: 37.60s, Validation Accuracy: 9.68%\n",
            "Epoch: 13, Time Spent: 41.58s, Validation Accuracy: 9.68%\n",
            "Epoch: 14, Time Spent: 45.14s, Validation Accuracy: 9.68%\n",
            "Epoch: 15, Time Spent: 48.78s, Validation Accuracy: 9.68%\n",
            "test accuracy: 9.807843417386957\n",
            "##################################################################################\n",
            "\n",
            "\n"
          ]
        }
      ],
      "source": [
        "\"\"\"\n",
        "  training the experimental models defined above and\n",
        "  finally printing the testing accuracy for each model\n",
        "\"\"\"\n",
        "\n",
        "for i in range(4):\n",
        "  myNet = Experimental_Nets[i]\n",
        "  print('for network-',i)\n",
        "  \n",
        "  validationLoss, trainLoss = myNet.fit(X_train, y_train, X_validation, y_validation)\n",
        "  y_pred = myNet.predict(X_test) \n",
        "  y_test2 = np.argmax(y_test, axis = 1)\n",
        "\n",
        "  print(\"test accuracy:\",100*accuracy_score(y_pred, y_test2))\n",
        "  print('##################################################################################\\n\\n')\n"
      ]
    },
    {
      "cell_type": "code",
      "execution_count": 45,
      "metadata": {
        "colab": {
          "base_uri": "https://localhost:8080/",
          "height": 338
        },
        "id": "BJY95pPN2bts",
        "outputId": "78fc1201-72df-4d4c-9e7c-1f1a21e93bb5"
      },
      "outputs": [
        {
          "data": {
            "text/plain": [
              "[<matplotlib.lines.Line2D at 0x7f88b4e116a0>]"
            ]
          },
          "execution_count": 45,
          "metadata": {},
          "output_type": "execute_result"
        },
        {
          "data": {
            "image/png": "[encoded data removed]",
            "text/plain": [
              "<Figure size 576x360 with 1 Axes>"
            ]
          },
          "metadata": {
            "needs_background": "light"
          },
          "output_type": "display_data"
        }
      ],
      "source": [
        "# Epoch vs accuracy plot for the above models\n",
        "X = [2,4,6,8]\n",
        "Y = [9.779269947853418,9.986427601971569, 10.27216229730695, 9.807843417386957]\n",
        "\n",
        "plt.figure(figsize=(8,5))\n",
        "plt.ylabel(\"Accuracy\")\n",
        "\n",
        "for i in range(4):\n",
        "  plt.text(X[i],Y[i],\"Model\"+str(i+1),color='red',fontdict={'size':'16'})\n",
        "\n",
        "\n",
        "plt.plot(X,Y,'bo-')\n"
      ]
    },
    {
      "cell_type": "code",
      "execution_count": 48,
      "metadata": {
        "id": "vDVPjqxu2bq7"
      },
      "outputs": [
        {
          "name": "stdout",
          "output_type": "stream",
          "text": [
            "Epoch: 1, Time Spent: 2.64s, Validation Accuracy: 9.68%\n",
            "Epoch: 2, Time Spent: 5.51s, Validation Accuracy: 10.46%\n",
            "Epoch: 3, Time Spent: 8.67s, Validation Accuracy: 23.30%\n",
            "Epoch: 4, Time Spent: 11.05s, Validation Accuracy: 17.55%\n",
            "Epoch: 5, Time Spent: 14.61s, Validation Accuracy: 21.34%\n",
            "Epoch: 6, Time Spent: 17.77s, Validation Accuracy: 25.48%\n",
            "Epoch: 7, Time Spent: 21.54s, Validation Accuracy: 26.32%\n",
            "Epoch: 8, Time Spent: 24.45s, Validation Accuracy: 22.24%\n",
            "Epoch: 9, Time Spent: 27.76s, Validation Accuracy: 32.10%\n",
            "Epoch: 10, Time Spent: 31.49s, Validation Accuracy: 11.01%\n",
            "Epoch: 11, Time Spent: 34.70s, Validation Accuracy: 26.41%\n",
            "Epoch: 12, Time Spent: 38.14s, Validation Accuracy: 12.38%\n",
            "Epoch: 13, Time Spent: 41.48s, Validation Accuracy: 18.01%\n",
            "Epoch: 14, Time Spent: 44.87s, Validation Accuracy: 12.20%\n",
            "Epoch: 15, Time Spent: 48.24s, Validation Accuracy: 9.98%\n"
          ]
        }
      ],
      "source": [
        "\"\"\"\n",
        " From above experiments, best model configuration \n",
        " based on test set accuracy is re-trained and saved\n",
        " as best performing model using gradient descent \n",
        "\"\"\"\n",
        "\n",
        "nn =  MyNeuralNetwork(3, [784, 256, 10], \"sigmoid\", 0.001, \"random\", X_train.shape[0], num_epochs =15, optimizers = \"GD\")\n",
        "\n",
        "nn_validationLoss, nn_trainLoss = nn.fit(X_train, y_train, X_validation, y_validation)\n",
        "y_pred = nn.predict(X_test) \n",
        "\n",
        "# filename = \"../Saved models/best_config_GradientDescent.sav\"\n",
        "# pickle.dump(myNet, open(filename, 'wb'))         "
      ]
    },
    {
      "cell_type": "code",
      "execution_count": 49,
      "metadata": {
        "id": "1_HqClEz0_c0"
      },
      "outputs": [
        {
          "data": {
            "text/plain": [
              "9.807843417386957"
            ]
          },
          "execution_count": 49,
          "metadata": {},
          "output_type": "execute_result"
        }
      ],
      "source": [
        "\"\"\" \n",
        "   re-loading best gradient descent model \n",
        "\"\"\"\n",
        "GD_loaded =  pickle.load(open('../Saved models/best_config_GradientDescent.sav','rb'))\n",
        "\n",
        "y_test2 = np.argmax(y_test, axis = 1)\n",
        "\n",
        "pre = GD_loaded.predict(X_test) \n",
        "100*accuracy_score(pre, y_test2)"
      ]
    },
    {
      "cell_type": "code",
      "execution_count": null,
      "metadata": {
        "id": "1m3o2W7lfpos"
      },
      "outputs": [],
      "source": []
    },
    {
      "cell_type": "code",
      "execution_count": null,
      "metadata": {
        "id": "-BfLfqry0yXc"
      },
      "outputs": [],
      "source": [
        "\"\"\" \n",
        "    Using momentum as optimization for best \n",
        "    gradient descent model configurations\n",
        "\"\"\"\n",
        "epochs = 50\n",
        "\n",
        "myNet = MyNeuralNetwork(3, [784, 256, 10], \"sigmoid\", 0.001, \"random\", 64, epochs,optimizers=\"momentum\")\n",
        "momentum_validationLoss, momentum_trainLoss = myNet.fit(X_train, y_train, X_validation, y_validation)\n",
        "y_pred = myNet.predict(X_test) \n",
        "\n",
        "# saving the momentum  model\n",
        "# filename = \"/content/momentum.sav\"\n",
        "# pickle.dump(myNet, open(filename, 'wb'))"
      ]
    },
    {
      "cell_type": "code",
      "execution_count": 50,
      "metadata": {},
      "outputs": [
        {
          "data": {
            "text/plain": [
              "90.64218872776627"
            ]
          },
          "execution_count": 50,
          "metadata": {},
          "output_type": "execute_result"
        }
      ],
      "source": [
        "\"\"\" \n",
        "   re-loading saved momentum model \n",
        "\"\"\"\n",
        "momentum_loaded =  pickle.load(open('../Saved models/momentum.sav','rb'))\n",
        "\n",
        "y_test2 = np.argmax(y_test, axis = 1)\n",
        "\n",
        "y_pred = momentum_loaded.predict(X_test) \n",
        "100*accuracy_score(y_pred, y_test2)"
      ]
    },
    {
      "cell_type": "code",
      "execution_count": null,
      "metadata": {},
      "outputs": [],
      "source": []
    },
    {
      "cell_type": "code",
      "execution_count": null,
      "metadata": {
        "id": "ywF0BPnw0yUf"
      },
      "outputs": [],
      "source": [
        "\"\"\" \n",
        "    Using Nesterov's accelerated gradient as optimization\n",
        "    for best gradient descent model configurations\n",
        "\"\"\"\n",
        "\n",
        "epochs = 50\n",
        "myNet = MyNeuralNetwork(3, [784, 256, 10], \"sigmoid\", 0.001, \"random\", 64, epochs, optimizers=\"NAG\")\n",
        "NAG_validationLoss, NAG_trainLoss = myNet.fit(X_train, y_train, X_validation, y_validation)\n",
        "NAG_y_pred = myNet.predict(X_test) \n",
        "\n",
        "# savign the Nesterov's accelerated gradient\n",
        "# filename = \"/content/NAG.sav\"\n",
        "# pickle.dump(myNet, open(filename, 'wb'))"
      ]
    },
    {
      "cell_type": "code",
      "execution_count": 51,
      "metadata": {},
      "outputs": [
        {
          "data": {
            "text/plain": [
              "91.75655403957425"
            ]
          },
          "execution_count": 51,
          "metadata": {},
          "output_type": "execute_result"
        }
      ],
      "source": [
        "\"\"\" \n",
        "   re-loading saved NAG model \n",
        "\"\"\"\n",
        "NAG_loaded =  pickle.load(open('../Saved models/NAG.sav','rb'))\n",
        "\n",
        "y_test2 = np.argmax(y_test, axis = 1)\n",
        "\n",
        "NAG_y_pred = NAG_loaded.predict(X_test) \n",
        "100*accuracy_score(NAG_y_pred, y_test2)"
      ]
    },
    {
      "cell_type": "code",
      "execution_count": null,
      "metadata": {},
      "outputs": [],
      "source": []
    },
    {
      "cell_type": "code",
      "execution_count": null,
      "metadata": {
        "colab": {
          "base_uri": "https://localhost:8080/"
        },
        "id": "UbtKBKp-0yRT",
        "outputId": "e08a379b-5e83-4a73-bdc7-e5b47830a462"
      },
      "outputs": [],
      "source": [
        "\"\"\" \n",
        "    Using AdaGrad as optimization for best \n",
        "    gradient descent model configurations\n",
        "\"\"\"\n",
        "\n",
        "epochs = 50\n",
        "myNet = MyNeuralNetwork(3, [784, 256, 10], \"sigmoid\", 0.001, \"random\", 64, epochs,optimizers=\"AdaGrad\")\n",
        "AdaGrad_validationLoss, AdaGrad_trainLoss = myNet.fit(X_train, y_train, X_validation, y_validation)\n",
        "AdaGrad_y_pred = myNet.predict(X_test) \n",
        "\n",
        "# saving the AdaGrad model\n",
        "# filename = \"/content/AdaGrad.sav\"\n",
        "# pickle.dump(myNet, open(filename, 'wb'))"
      ]
    },
    {
      "cell_type": "code",
      "execution_count": 52,
      "metadata": {},
      "outputs": [
        {
          "data": {
            "text/plain": [
              "78.3913136652618"
            ]
          },
          "execution_count": 52,
          "metadata": {},
          "output_type": "execute_result"
        }
      ],
      "source": [
        "\"\"\" \n",
        "   re-loading saved AdaGrad model \n",
        "\"\"\"\n",
        "AdaGrad_loaded =  pickle.load(open('../Saved models/AdaGrad.sav','rb'))\n",
        "\n",
        "y_test2 = np.argmax(y_test, axis = 1)\n",
        "\n",
        "AdaGrad_y_pred = AdaGrad_loaded.predict(X_test) \n",
        "100*accuracy_score(AdaGrad_y_pred, y_test2)"
      ]
    },
    {
      "cell_type": "code",
      "execution_count": null,
      "metadata": {
        "id": "gV5gIGXnjw6o"
      },
      "outputs": [],
      "source": []
    },
    {
      "cell_type": "code",
      "execution_count": null,
      "metadata": {
        "colab": {
          "base_uri": "https://localhost:8080/"
        },
        "id": "UNmWOEZI0yOZ",
        "outputId": "a4f07c2d-f703-413b-c7c5-98b8ccd27b4f"
      },
      "outputs": [],
      "source": [
        "\"\"\" \n",
        "    Using RMS as optimization for best \n",
        "    gradient descent model configurations\n",
        "\"\"\"\n",
        "\n",
        "epochs = 50\n",
        "myNet = MyNeuralNetwork(3, [784, 256, 10], \"sigmoid\", 0.001, \"random\", 64, epochs,optimizers=\"RMS\")\n",
        "RMS_validationLoss, RMS_trainLoss = myNet.fit(X_train, y_train, X_validation, y_validation)\n",
        "RMS_y_pred = myNet.predict(X_test) \n",
        "\n",
        "# saving the RMS model\n",
        "# filename = \"/content/RMS.sav\"\n",
        "# pickle.dump(myNet, open(filename, 'wb'))\n"
      ]
    },
    {
      "cell_type": "code",
      "execution_count": 53,
      "metadata": {},
      "outputs": [
        {
          "data": {
            "text/plain": [
              "89.01350096435459"
            ]
          },
          "execution_count": 53,
          "metadata": {},
          "output_type": "execute_result"
        }
      ],
      "source": [
        "\"\"\" \n",
        "   re-loading saved RMS model \n",
        "\"\"\"\n",
        "RMS_loaded =  pickle.load(open('../Saved models/RMS.sav','rb'))\n",
        "\n",
        "y_test2 = np.argmax(y_test, axis = 1)\n",
        "\n",
        "RMS_y_pred = RMS_loaded.predict(X_test) \n",
        "100*accuracy_score(RMS_y_pred, y_test2)"
      ]
    },
    {
      "cell_type": "code",
      "execution_count": null,
      "metadata": {},
      "outputs": [],
      "source": []
    },
    {
      "cell_type": "code",
      "execution_count": null,
      "metadata": {
        "colab": {
          "base_uri": "https://localhost:8080/"
        },
        "id": "MdGXK-hR0yK-",
        "outputId": "f7c46ecb-81f1-4b73-fda0-64e9ecf36e18"
      },
      "outputs": [],
      "source": [
        "\"\"\" \n",
        "    Using Adam as optimization for best \n",
        "    gradient descent model configurations\n",
        "\"\"\"\n",
        "\n",
        "epochs = 50\n",
        "myNet = MyNeuralNetwork(3, [784, 256, 10], \"sigmoid\", 0.001, \"random\", 64, epochs,optimizers=\"Adam\")\n",
        "Adam_validationLoss, Adam_trainLoss = myNet.fit(X_train, y_train, X_validation, y_validation)\n",
        "Adam_y_pred = myNet.predict(X_test) \n",
        "\n",
        "# saving the Adam model\n",
        "# filename = \"/content/Adam.sav\"\n",
        "# pickle.dump(myNet, open(filename, 'wb'))"
      ]
    },
    {
      "cell_type": "code",
      "execution_count": 54,
      "metadata": {
        "id": "nreggtHP0yIK"
      },
      "outputs": [
        {
          "data": {
            "text/plain": [
              "78.16272590899351"
            ]
          },
          "execution_count": 54,
          "metadata": {},
          "output_type": "execute_result"
        }
      ],
      "source": [
        "\"\"\" \n",
        "   re-loading saved Adam model \n",
        "\"\"\"\n",
        "Adam_loaded =  pickle.load(open('../Saved models/Adam.sav','rb'))\n",
        "\n",
        "y_test2 = np.argmax(y_test, axis = 1)\n",
        "\n",
        "Adam_y_pred = Adam_loaded.predict(X_test) \n",
        "100*accuracy_score(Adam_y_pred, y_test2)"
      ]
    },
    {
      "cell_type": "code",
      "execution_count": null,
      "metadata": {},
      "outputs": [],
      "source": []
    },
    {
      "cell_type": "code",
      "execution_count": 55,
      "metadata": {
        "colab": {
          "base_uri": "https://localhost:8080/",
          "height": 262
        },
        "id": "koJjt5bASED9",
        "outputId": "494391f1-e5bb-41a5-8c49-7df95ff25d77"
      },
      "outputs": [
        {
          "name": "stdout",
          "output_type": "stream",
          "text": [
            "test accuracy for gradient descent model: 9.807843417386957\n",
            "test accuracy for Momentum model: 90.64218872776627\n",
            "test accuracy for NAG model: 91.75655403957425\n",
            "test accuracy for AdaGrad model: 78.3913136652618\n",
            "test accuracy for RMS model: 89.01350096435459\n",
            "test accuracy for Adam model: 78.16272590899351\n"
          ]
        }
      ],
      "source": [
        "\"\"\"\n",
        "    Test set accuracy for all optimizer models\n",
        "\"\"\"\n",
        "\n",
        "y_test2 = np.argmax(y_test, axis = 1)\n",
        "\n",
        "print(\"test accuracy for gradient descent model:\",end =\" \")\n",
        "print(100*accuracy_score(pre, y_test2))\n",
        "\n",
        "print(\"test accuracy for Momentum model:\",end =\" \")\n",
        "print(100*accuracy_score(y_pred, y_test2))\n",
        "\n",
        "print(\"test accuracy for NAG model:\",end =\" \")\n",
        "print(100*accuracy_score( NAG_y_pred, y_test2))\n",
        "\n",
        "print(\"test accuracy for AdaGrad model:\",end =\" \")\n",
        "print(100*accuracy_score(AdaGrad_y_pred, y_test2))\n",
        "\n",
        "print(\"test accuracy for RMS model:\",end =\" \")\n",
        "print(100*accuracy_score(RMS_y_pred, y_test2))\n",
        "\n",
        "print(\"test accuracy for Adam model:\",end =\" \")\n",
        "print(100*accuracy_score(Adam_y_pred, y_test2))"
      ]
    },
    {
      "cell_type": "code",
      "execution_count": null,
      "metadata": {
        "colab": {
          "base_uri": "https://localhost:8080/",
          "height": 561
        },
        "id": "UbIgACccSD9E",
        "outputId": "6c7d5390-c7a5-40d4-f1f6-164261c2d315"
      },
      "outputs": [],
      "source": [
        "# Epoch vs Validation accuracy for optimizers\n",
        " \n",
        "epochs = 50\n",
        "plt.figure(figsize=(10,8))\n",
        "plt.plot(list(range(epochs)),momentum_validationLoss,  label = \"Momentum\")\n",
        "plt.plot(list(range(epochs)),NAG_validationLoss,  label = \"NAG\")\n",
        "plt.plot(list(range(epochs)),AdaGrad_validationLoss,  label = \"AdaGrad\")\n",
        "plt.plot(list(range(epochs)),RMS_validationLoss,  label = \"RMS\")\n",
        "plt.plot(list(range(epochs)),Adam_validationLoss,  label = \"Adam\")\n",
        "\n",
        "plt.xlabel(\"Epochs\")\n",
        "plt.ylabel(\"Accuracy\")\n",
        "plt.figlegend()\n",
        "plt.show()"
      ]
    },
    {
      "cell_type": "code",
      "execution_count": null,
      "metadata": {
        "colab": {
          "base_uri": "https://localhost:8080/",
          "height": 561
        },
        "id": "ubN-AyjoSD6d",
        "outputId": "2a866f84-cd01-47bd-89bf-8482f679a8fb"
      },
      "outputs": [],
      "source": [
        "# Epoch vs Train accuracy for optimizers\n",
        " \n",
        "plt.figure(figsize=(10,8))\n",
        "plt.plot(list(range(epochs)),momentum_trainLoss,  label = \"Momentum\")\n",
        "plt.plot(list(range(epochs)),NAG_trainLoss,  label = \"NAG\")\n",
        "plt.plot(list(range(epochs)),AdaGrad_trainLoss,  label = \"AdaGrad\")\n",
        "plt.plot(list(range(epochs)),RMS_trainLoss,  label = \"RMS\")\n",
        "plt.plot(list(range(epochs)),Adam_trainLoss,  label = \"Adam\")\n",
        "\n",
        "plt.xlabel(\"Epochs\")\n",
        "plt.ylabel(\"Accuracy\")\n",
        "plt.figlegend()\n",
        "plt.show()"
      ]
    },
    {
      "cell_type": "code",
      "execution_count": null,
      "metadata": {
        "id": "nSYgN2RfeRrz"
      },
      "outputs": [],
      "source": []
    },
    {
      "cell_type": "code",
      "execution_count": null,
      "metadata": {
        "id": "uUf6DPzbeRoM"
      },
      "outputs": [],
      "source": []
    },
    {
      "cell_type": "code",
      "execution_count": null,
      "metadata": {
        "id": "nN3kXTQdeRjp"
      },
      "outputs": [],
      "source": []
    }
  ],
  "metadata": {
    "colab": {
      "collapsed_sections": [],
      "name": "DL_A1_Q3.ipynb",
      "provenance": []
    },
    "kernelspec": {
      "display_name": "Python 3",
      "name": "python3"
    },
    "language_info": {
      "codemirror_mode": {
        "name": "ipython",
        "version": 3
      },
      "file_extension": ".py",
      "mimetype": "text/x-python",
      "name": "python",
      "nbconvert_exporter": "python",
      "pygments_lexer": "ipython3",
      "version": "3.8.10"
    }
  },
  "nbformat": 4,
  "nbformat_minor": 0
}
