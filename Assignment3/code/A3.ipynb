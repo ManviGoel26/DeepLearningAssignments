{
  "nbformat": 4,
  "nbformat_minor": 0,
  "metadata": {
    "colab": {
      "name": "Copy of 465 DL-A3.ipynb",
      "provenance": [],
      "collapsed_sections": [
        "dreOTHMgwPfP"
      ]
    },
    "kernelspec": {
      "name": "python3",
      "display_name": "Python 3"
    },
    "language_info": {
      "name": "python"
    },
    "widgets": {
      "application/vnd.jupyter.widget-state+json": {
        "c330999ca958484ca21cb858fad91ed6": {
          "model_module": "@jupyter-widgets/controls",
          "model_name": "HBoxModel",
          "model_module_version": "1.5.0",
          "state": {
            "_dom_classes": [],
            "_model_module": "@jupyter-widgets/controls",
            "_model_module_version": "1.5.0",
            "_model_name": "HBoxModel",
            "_view_count": null,
            "_view_module": "@jupyter-widgets/controls",
            "_view_module_version": "1.5.0",
            "_view_name": "HBoxView",
            "box_style": "",
            "children": [
              "IPY_MODEL_c7504389f33946e4aceff11d18da5803",
              "IPY_MODEL_cbbf80b31a3348aca3645a426546b69f",
              "IPY_MODEL_1faa596f2b8c43768d4772167ad249d8"
            ],
            "layout": "IPY_MODEL_36bcbdad827e499cbe91e7b9685dc42c"
          }
        },
        "c7504389f33946e4aceff11d18da5803": {
          "model_module": "@jupyter-widgets/controls",
          "model_name": "HTMLModel",
          "model_module_version": "1.5.0",
          "state": {
            "_dom_classes": [],
            "_model_module": "@jupyter-widgets/controls",
            "_model_module_version": "1.5.0",
            "_model_name": "HTMLModel",
            "_view_count": null,
            "_view_module": "@jupyter-widgets/controls",
            "_view_module_version": "1.5.0",
            "_view_name": "HTMLView",
            "description": "",
            "description_tooltip": null,
            "layout": "IPY_MODEL_8f5551d74de545e595053437f1078222",
            "placeholder": "​",
            "style": "IPY_MODEL_8fc590a517f145e5aebea862da9b2828",
            "value": "Downloading: 100%"
          }
        },
        "cbbf80b31a3348aca3645a426546b69f": {
          "model_module": "@jupyter-widgets/controls",
          "model_name": "FloatProgressModel",
          "model_module_version": "1.5.0",
          "state": {
            "_dom_classes": [],
            "_model_module": "@jupyter-widgets/controls",
            "_model_module_version": "1.5.0",
            "_model_name": "FloatProgressModel",
            "_view_count": null,
            "_view_module": "@jupyter-widgets/controls",
            "_view_module_version": "1.5.0",
            "_view_name": "ProgressView",
            "bar_style": "success",
            "description": "",
            "description_tooltip": null,
            "layout": "IPY_MODEL_36dd6e1ddc7944beaa67dce47ad098d8",
            "max": 231508,
            "min": 0,
            "orientation": "horizontal",
            "style": "IPY_MODEL_3705dd7d614140a5bc0ec7b717f8325d",
            "value": 231508
          }
        },
        "1faa596f2b8c43768d4772167ad249d8": {
          "model_module": "@jupyter-widgets/controls",
          "model_name": "HTMLModel",
          "model_module_version": "1.5.0",
          "state": {
            "_dom_classes": [],
            "_model_module": "@jupyter-widgets/controls",
            "_model_module_version": "1.5.0",
            "_model_name": "HTMLModel",
            "_view_count": null,
            "_view_module": "@jupyter-widgets/controls",
            "_view_module_version": "1.5.0",
            "_view_name": "HTMLView",
            "description": "",
            "description_tooltip": null,
            "layout": "IPY_MODEL_e21e44125365484a8e91a6b3c40abc9e",
            "placeholder": "​",
            "style": "IPY_MODEL_5d6af4562c234518b1094e06dbc60cb3",
            "value": " 226k/226k [00:00&lt;00:00, 2.48MB/s]"
          }
        },
        "36bcbdad827e499cbe91e7b9685dc42c": {
          "model_module": "@jupyter-widgets/base",
          "model_name": "LayoutModel",
          "model_module_version": "1.2.0",
          "state": {
            "_model_module": "@jupyter-widgets/base",
            "_model_module_version": "1.2.0",
            "_model_name": "LayoutModel",
            "_view_count": null,
            "_view_module": "@jupyter-widgets/base",
            "_view_module_version": "1.2.0",
            "_view_name": "LayoutView",
            "align_content": null,
            "align_items": null,
            "align_self": null,
            "border": null,
            "bottom": null,
            "display": null,
            "flex": null,
            "flex_flow": null,
            "grid_area": null,
            "grid_auto_columns": null,
            "grid_auto_flow": null,
            "grid_auto_rows": null,
            "grid_column": null,
            "grid_gap": null,
            "grid_row": null,
            "grid_template_areas": null,
            "grid_template_columns": null,
            "grid_template_rows": null,
            "height": null,
            "justify_content": null,
            "justify_items": null,
            "left": null,
            "margin": null,
            "max_height": null,
            "max_width": null,
            "min_height": null,
            "min_width": null,
            "object_fit": null,
            "object_position": null,
            "order": null,
            "overflow": null,
            "overflow_x": null,
            "overflow_y": null,
            "padding": null,
            "right": null,
            "top": null,
            "visibility": null,
            "width": null
          }
        },
        "8f5551d74de545e595053437f1078222": {
          "model_module": "@jupyter-widgets/base",
          "model_name": "LayoutModel",
          "model_module_version": "1.2.0",
          "state": {
            "_model_module": "@jupyter-widgets/base",
            "_model_module_version": "1.2.0",
            "_model_name": "LayoutModel",
            "_view_count": null,
            "_view_module": "@jupyter-widgets/base",
            "_view_module_version": "1.2.0",
            "_view_name": "LayoutView",
            "align_content": null,
            "align_items": null,
            "align_self": null,
            "border": null,
            "bottom": null,
            "display": null,
            "flex": null,
            "flex_flow": null,
            "grid_area": null,
            "grid_auto_columns": null,
            "grid_auto_flow": null,
            "grid_auto_rows": null,
            "grid_column": null,
            "grid_gap": null,
            "grid_row": null,
            "grid_template_areas": null,
            "grid_template_columns": null,
            "grid_template_rows": null,
            "height": null,
            "justify_content": null,
            "justify_items": null,
            "left": null,
            "margin": null,
            "max_height": null,
            "max_width": null,
            "min_height": null,
            "min_width": null,
            "object_fit": null,
            "object_position": null,
            "order": null,
            "overflow": null,
            "overflow_x": null,
            "overflow_y": null,
            "padding": null,
            "right": null,
            "top": null,
            "visibility": null,
            "width": null
          }
        },
        "8fc590a517f145e5aebea862da9b2828": {
          "model_module": "@jupyter-widgets/controls",
          "model_name": "DescriptionStyleModel",
          "model_module_version": "1.5.0",
          "state": {
            "_model_module": "@jupyter-widgets/controls",
            "_model_module_version": "1.5.0",
            "_model_name": "DescriptionStyleModel",
            "_view_count": null,
            "_view_module": "@jupyter-widgets/base",
            "_view_module_version": "1.2.0",
            "_view_name": "StyleView",
            "description_width": ""
          }
        },
        "36dd6e1ddc7944beaa67dce47ad098d8": {
          "model_module": "@jupyter-widgets/base",
          "model_name": "LayoutModel",
          "model_module_version": "1.2.0",
          "state": {
            "_model_module": "@jupyter-widgets/base",
            "_model_module_version": "1.2.0",
            "_model_name": "LayoutModel",
            "_view_count": null,
            "_view_module": "@jupyter-widgets/base",
            "_view_module_version": "1.2.0",
            "_view_name": "LayoutView",
            "align_content": null,
            "align_items": null,
            "align_self": null,
            "border": null,
            "bottom": null,
            "display": null,
            "flex": null,
            "flex_flow": null,
            "grid_area": null,
            "grid_auto_columns": null,
            "grid_auto_flow": null,
            "grid_auto_rows": null,
            "grid_column": null,
            "grid_gap": null,
            "grid_row": null,
            "grid_template_areas": null,
            "grid_template_columns": null,
            "grid_template_rows": null,
            "height": null,
            "justify_content": null,
            "justify_items": null,
            "left": null,
            "margin": null,
            "max_height": null,
            "max_width": null,
            "min_height": null,
            "min_width": null,
            "object_fit": null,
            "object_position": null,
            "order": null,
            "overflow": null,
            "overflow_x": null,
            "overflow_y": null,
            "padding": null,
            "right": null,
            "top": null,
            "visibility": null,
            "width": null
          }
        },
        "3705dd7d614140a5bc0ec7b717f8325d": {
          "model_module": "@jupyter-widgets/controls",
          "model_name": "ProgressStyleModel",
          "model_module_version": "1.5.0",
          "state": {
            "_model_module": "@jupyter-widgets/controls",
            "_model_module_version": "1.5.0",
            "_model_name": "ProgressStyleModel",
            "_view_count": null,
            "_view_module": "@jupyter-widgets/base",
            "_view_module_version": "1.2.0",
            "_view_name": "StyleView",
            "bar_color": null,
            "description_width": ""
          }
        },
        "e21e44125365484a8e91a6b3c40abc9e": {
          "model_module": "@jupyter-widgets/base",
          "model_name": "LayoutModel",
          "model_module_version": "1.2.0",
          "state": {
            "_model_module": "@jupyter-widgets/base",
            "_model_module_version": "1.2.0",
            "_model_name": "LayoutModel",
            "_view_count": null,
            "_view_module": "@jupyter-widgets/base",
            "_view_module_version": "1.2.0",
            "_view_name": "LayoutView",
            "align_content": null,
            "align_items": null,
            "align_self": null,
            "border": null,
            "bottom": null,
            "display": null,
            "flex": null,
            "flex_flow": null,
            "grid_area": null,
            "grid_auto_columns": null,
            "grid_auto_flow": null,
            "grid_auto_rows": null,
            "grid_column": null,
            "grid_gap": null,
            "grid_row": null,
            "grid_template_areas": null,
            "grid_template_columns": null,
            "grid_template_rows": null,
            "height": null,
            "justify_content": null,
            "justify_items": null,
            "left": null,
            "margin": null,
            "max_height": null,
            "max_width": null,
            "min_height": null,
            "min_width": null,
            "object_fit": null,
            "object_position": null,
            "order": null,
            "overflow": null,
            "overflow_x": null,
            "overflow_y": null,
            "padding": null,
            "right": null,
            "top": null,
            "visibility": null,
            "width": null
          }
        },
        "5d6af4562c234518b1094e06dbc60cb3": {
          "model_module": "@jupyter-widgets/controls",
          "model_name": "DescriptionStyleModel",
          "model_module_version": "1.5.0",
          "state": {
            "_model_module": "@jupyter-widgets/controls",
            "_model_module_version": "1.5.0",
            "_model_name": "DescriptionStyleModel",
            "_view_count": null,
            "_view_module": "@jupyter-widgets/base",
            "_view_module_version": "1.2.0",
            "_view_name": "StyleView",
            "description_width": ""
          }
        },
        "cf95449cee674788945f5ee77c0cd4b8": {
          "model_module": "@jupyter-widgets/controls",
          "model_name": "HBoxModel",
          "model_module_version": "1.5.0",
          "state": {
            "_dom_classes": [],
            "_model_module": "@jupyter-widgets/controls",
            "_model_module_version": "1.5.0",
            "_model_name": "HBoxModel",
            "_view_count": null,
            "_view_module": "@jupyter-widgets/controls",
            "_view_module_version": "1.5.0",
            "_view_name": "HBoxView",
            "box_style": "",
            "children": [
              "IPY_MODEL_0982a8d07ca1498f910fbb351524c3e4",
              "IPY_MODEL_dca58c98211341ac8a361f6e75ba4e1d",
              "IPY_MODEL_6e84c63517f642f9abb19ba21fc6201e"
            ],
            "layout": "IPY_MODEL_c2071b1500e04095b8858b51d28183c9"
          }
        },
        "0982a8d07ca1498f910fbb351524c3e4": {
          "model_module": "@jupyter-widgets/controls",
          "model_name": "HTMLModel",
          "model_module_version": "1.5.0",
          "state": {
            "_dom_classes": [],
            "_model_module": "@jupyter-widgets/controls",
            "_model_module_version": "1.5.0",
            "_model_name": "HTMLModel",
            "_view_count": null,
            "_view_module": "@jupyter-widgets/controls",
            "_view_module_version": "1.5.0",
            "_view_name": "HTMLView",
            "description": "",
            "description_tooltip": null,
            "layout": "IPY_MODEL_05343f58ad6847d38bedaab2eb670958",
            "placeholder": "​",
            "style": "IPY_MODEL_247b488dbea4494ab16e16b5c6b64744",
            "value": "Downloading: 100%"
          }
        },
        "dca58c98211341ac8a361f6e75ba4e1d": {
          "model_module": "@jupyter-widgets/controls",
          "model_name": "FloatProgressModel",
          "model_module_version": "1.5.0",
          "state": {
            "_dom_classes": [],
            "_model_module": "@jupyter-widgets/controls",
            "_model_module_version": "1.5.0",
            "_model_name": "FloatProgressModel",
            "_view_count": null,
            "_view_module": "@jupyter-widgets/controls",
            "_view_module_version": "1.5.0",
            "_view_name": "ProgressView",
            "bar_style": "success",
            "description": "",
            "description_tooltip": null,
            "layout": "IPY_MODEL_6d83f505411f45f6b8d28caaf3c94c66",
            "max": 28,
            "min": 0,
            "orientation": "horizontal",
            "style": "IPY_MODEL_8aec7939c4e2428c837b43f051a15ac9",
            "value": 28
          }
        },
        "6e84c63517f642f9abb19ba21fc6201e": {
          "model_module": "@jupyter-widgets/controls",
          "model_name": "HTMLModel",
          "model_module_version": "1.5.0",
          "state": {
            "_dom_classes": [],
            "_model_module": "@jupyter-widgets/controls",
            "_model_module_version": "1.5.0",
            "_model_name": "HTMLModel",
            "_view_count": null,
            "_view_module": "@jupyter-widgets/controls",
            "_view_module_version": "1.5.0",
            "_view_name": "HTMLView",
            "description": "",
            "description_tooltip": null,
            "layout": "IPY_MODEL_749f937e215e438b8308308eb7ecf575",
            "placeholder": "​",
            "style": "IPY_MODEL_768ecf7bfad041a685c79e87eb71c158",
            "value": " 28.0/28.0 [00:00&lt;00:00, 489B/s]"
          }
        },
        "c2071b1500e04095b8858b51d28183c9": {
          "model_module": "@jupyter-widgets/base",
          "model_name": "LayoutModel",
          "model_module_version": "1.2.0",
          "state": {
            "_model_module": "@jupyter-widgets/base",
            "_model_module_version": "1.2.0",
            "_model_name": "LayoutModel",
            "_view_count": null,
            "_view_module": "@jupyter-widgets/base",
            "_view_module_version": "1.2.0",
            "_view_name": "LayoutView",
            "align_content": null,
            "align_items": null,
            "align_self": null,
            "border": null,
            "bottom": null,
            "display": null,
            "flex": null,
            "flex_flow": null,
            "grid_area": null,
            "grid_auto_columns": null,
            "grid_auto_flow": null,
            "grid_auto_rows": null,
            "grid_column": null,
            "grid_gap": null,
            "grid_row": null,
            "grid_template_areas": null,
            "grid_template_columns": null,
            "grid_template_rows": null,
            "height": null,
            "justify_content": null,
            "justify_items": null,
            "left": null,
            "margin": null,
            "max_height": null,
            "max_width": null,
            "min_height": null,
            "min_width": null,
            "object_fit": null,
            "object_position": null,
            "order": null,
            "overflow": null,
            "overflow_x": null,
            "overflow_y": null,
            "padding": null,
            "right": null,
            "top": null,
            "visibility": null,
            "width": null
          }
        },
        "05343f58ad6847d38bedaab2eb670958": {
          "model_module": "@jupyter-widgets/base",
          "model_name": "LayoutModel",
          "model_module_version": "1.2.0",
          "state": {
            "_model_module": "@jupyter-widgets/base",
            "_model_module_version": "1.2.0",
            "_model_name": "LayoutModel",
            "_view_count": null,
            "_view_module": "@jupyter-widgets/base",
            "_view_module_version": "1.2.0",
            "_view_name": "LayoutView",
            "align_content": null,
            "align_items": null,
            "align_self": null,
            "border": null,
            "bottom": null,
            "display": null,
            "flex": null,
            "flex_flow": null,
            "grid_area": null,
            "grid_auto_columns": null,
            "grid_auto_flow": null,
            "grid_auto_rows": null,
            "grid_column": null,
            "grid_gap": null,
            "grid_row": null,
            "grid_template_areas": null,
            "grid_template_columns": null,
            "grid_template_rows": null,
            "height": null,
            "justify_content": null,
            "justify_items": null,
            "left": null,
            "margin": null,
            "max_height": null,
            "max_width": null,
            "min_height": null,
            "min_width": null,
            "object_fit": null,
            "object_position": null,
            "order": null,
            "overflow": null,
            "overflow_x": null,
            "overflow_y": null,
            "padding": null,
            "right": null,
            "top": null,
            "visibility": null,
            "width": null
          }
        },
        "247b488dbea4494ab16e16b5c6b64744": {
          "model_module": "@jupyter-widgets/controls",
          "model_name": "DescriptionStyleModel",
          "model_module_version": "1.5.0",
          "state": {
            "_model_module": "@jupyter-widgets/controls",
            "_model_module_version": "1.5.0",
            "_model_name": "DescriptionStyleModel",
            "_view_count": null,
            "_view_module": "@jupyter-widgets/base",
            "_view_module_version": "1.2.0",
            "_view_name": "StyleView",
            "description_width": ""
          }
        },
        "6d83f505411f45f6b8d28caaf3c94c66": {
          "model_module": "@jupyter-widgets/base",
          "model_name": "LayoutModel",
          "model_module_version": "1.2.0",
          "state": {
            "_model_module": "@jupyter-widgets/base",
            "_model_module_version": "1.2.0",
            "_model_name": "LayoutModel",
            "_view_count": null,
            "_view_module": "@jupyter-widgets/base",
            "_view_module_version": "1.2.0",
            "_view_name": "LayoutView",
            "align_content": null,
            "align_items": null,
            "align_self": null,
            "border": null,
            "bottom": null,
            "display": null,
            "flex": null,
            "flex_flow": null,
            "grid_area": null,
            "grid_auto_columns": null,
            "grid_auto_flow": null,
            "grid_auto_rows": null,
            "grid_column": null,
            "grid_gap": null,
            "grid_row": null,
            "grid_template_areas": null,
            "grid_template_columns": null,
            "grid_template_rows": null,
            "height": null,
            "justify_content": null,
            "justify_items": null,
            "left": null,
            "margin": null,
            "max_height": null,
            "max_width": null,
            "min_height": null,
            "min_width": null,
            "object_fit": null,
            "object_position": null,
            "order": null,
            "overflow": null,
            "overflow_x": null,
            "overflow_y": null,
            "padding": null,
            "right": null,
            "top": null,
            "visibility": null,
            "width": null
          }
        },
        "8aec7939c4e2428c837b43f051a15ac9": {
          "model_module": "@jupyter-widgets/controls",
          "model_name": "ProgressStyleModel",
          "model_module_version": "1.5.0",
          "state": {
            "_model_module": "@jupyter-widgets/controls",
            "_model_module_version": "1.5.0",
            "_model_name": "ProgressStyleModel",
            "_view_count": null,
            "_view_module": "@jupyter-widgets/base",
            "_view_module_version": "1.2.0",
            "_view_name": "StyleView",
            "bar_color": null,
            "description_width": ""
          }
        },
        "749f937e215e438b8308308eb7ecf575": {
          "model_module": "@jupyter-widgets/base",
          "model_name": "LayoutModel",
          "model_module_version": "1.2.0",
          "state": {
            "_model_module": "@jupyter-widgets/base",
            "_model_module_version": "1.2.0",
            "_model_name": "LayoutModel",
            "_view_count": null,
            "_view_module": "@jupyter-widgets/base",
            "_view_module_version": "1.2.0",
            "_view_name": "LayoutView",
            "align_content": null,
            "align_items": null,
            "align_self": null,
            "border": null,
            "bottom": null,
            "display": null,
            "flex": null,
            "flex_flow": null,
            "grid_area": null,
            "grid_auto_columns": null,
            "grid_auto_flow": null,
            "grid_auto_rows": null,
            "grid_column": null,
            "grid_gap": null,
            "grid_row": null,
            "grid_template_areas": null,
            "grid_template_columns": null,
            "grid_template_rows": null,
            "height": null,
            "justify_content": null,
            "justify_items": null,
            "left": null,
            "margin": null,
            "max_height": null,
            "max_width": null,
            "min_height": null,
            "min_width": null,
            "object_fit": null,
            "object_position": null,
            "order": null,
            "overflow": null,
            "overflow_x": null,
            "overflow_y": null,
            "padding": null,
            "right": null,
            "top": null,
            "visibility": null,
            "width": null
          }
        },
        "768ecf7bfad041a685c79e87eb71c158": {
          "model_module": "@jupyter-widgets/controls",
          "model_name": "DescriptionStyleModel",
          "model_module_version": "1.5.0",
          "state": {
            "_model_module": "@jupyter-widgets/controls",
            "_model_module_version": "1.5.0",
            "_model_name": "DescriptionStyleModel",
            "_view_count": null,
            "_view_module": "@jupyter-widgets/base",
            "_view_module_version": "1.2.0",
            "_view_name": "StyleView",
            "description_width": ""
          }
        },
        "7c9acc926fb348daa684d4c6d127f4cc": {
          "model_module": "@jupyter-widgets/controls",
          "model_name": "HBoxModel",
          "model_module_version": "1.5.0",
          "state": {
            "_dom_classes": [],
            "_model_module": "@jupyter-widgets/controls",
            "_model_module_version": "1.5.0",
            "_model_name": "HBoxModel",
            "_view_count": null,
            "_view_module": "@jupyter-widgets/controls",
            "_view_module_version": "1.5.0",
            "_view_name": "HBoxView",
            "box_style": "",
            "children": [
              "IPY_MODEL_87314ac6b1cd4c1ea30c1e5fd09564fb",
              "IPY_MODEL_c2f3913abea0400ba3464f3811383ac1",
              "IPY_MODEL_0ac1175d4b6a4bf382b01290aa78f6ef"
            ],
            "layout": "IPY_MODEL_caff14c0520b42abbc55b2279aaa6473"
          }
        },
        "87314ac6b1cd4c1ea30c1e5fd09564fb": {
          "model_module": "@jupyter-widgets/controls",
          "model_name": "HTMLModel",
          "model_module_version": "1.5.0",
          "state": {
            "_dom_classes": [],
            "_model_module": "@jupyter-widgets/controls",
            "_model_module_version": "1.5.0",
            "_model_name": "HTMLModel",
            "_view_count": null,
            "_view_module": "@jupyter-widgets/controls",
            "_view_module_version": "1.5.0",
            "_view_name": "HTMLView",
            "description": "",
            "description_tooltip": null,
            "layout": "IPY_MODEL_db33ab9888464a10bff24044378d4aa8",
            "placeholder": "​",
            "style": "IPY_MODEL_f239f031bd3a4d9d885ba068c2b5aa92",
            "value": "Downloading: 100%"
          }
        },
        "c2f3913abea0400ba3464f3811383ac1": {
          "model_module": "@jupyter-widgets/controls",
          "model_name": "FloatProgressModel",
          "model_module_version": "1.5.0",
          "state": {
            "_dom_classes": [],
            "_model_module": "@jupyter-widgets/controls",
            "_model_module_version": "1.5.0",
            "_model_name": "FloatProgressModel",
            "_view_count": null,
            "_view_module": "@jupyter-widgets/controls",
            "_view_module_version": "1.5.0",
            "_view_name": "ProgressView",
            "bar_style": "success",
            "description": "",
            "description_tooltip": null,
            "layout": "IPY_MODEL_30ae571a37a64ca8be0a062b5bb2a2bd",
            "max": 483,
            "min": 0,
            "orientation": "horizontal",
            "style": "IPY_MODEL_7f5db3fc4cbb4ae791214df043c5be6b",
            "value": 483
          }
        },
        "0ac1175d4b6a4bf382b01290aa78f6ef": {
          "model_module": "@jupyter-widgets/controls",
          "model_name": "HTMLModel",
          "model_module_version": "1.5.0",
          "state": {
            "_dom_classes": [],
            "_model_module": "@jupyter-widgets/controls",
            "_model_module_version": "1.5.0",
            "_model_name": "HTMLModel",
            "_view_count": null,
            "_view_module": "@jupyter-widgets/controls",
            "_view_module_version": "1.5.0",
            "_view_name": "HTMLView",
            "description": "",
            "description_tooltip": null,
            "layout": "IPY_MODEL_c3b756f709004831b373be5311cadad6",
            "placeholder": "​",
            "style": "IPY_MODEL_aafc25eef3954894b1226da9f19aaadb",
            "value": " 483/483 [00:00&lt;00:00, 11.1kB/s]"
          }
        },
        "caff14c0520b42abbc55b2279aaa6473": {
          "model_module": "@jupyter-widgets/base",
          "model_name": "LayoutModel",
          "model_module_version": "1.2.0",
          "state": {
            "_model_module": "@jupyter-widgets/base",
            "_model_module_version": "1.2.0",
            "_model_name": "LayoutModel",
            "_view_count": null,
            "_view_module": "@jupyter-widgets/base",
            "_view_module_version": "1.2.0",
            "_view_name": "LayoutView",
            "align_content": null,
            "align_items": null,
            "align_self": null,
            "border": null,
            "bottom": null,
            "display": null,
            "flex": null,
            "flex_flow": null,
            "grid_area": null,
            "grid_auto_columns": null,
            "grid_auto_flow": null,
            "grid_auto_rows": null,
            "grid_column": null,
            "grid_gap": null,
            "grid_row": null,
            "grid_template_areas": null,
            "grid_template_columns": null,
            "grid_template_rows": null,
            "height": null,
            "justify_content": null,
            "justify_items": null,
            "left": null,
            "margin": null,
            "max_height": null,
            "max_width": null,
            "min_height": null,
            "min_width": null,
            "object_fit": null,
            "object_position": null,
            "order": null,
            "overflow": null,
            "overflow_x": null,
            "overflow_y": null,
            "padding": null,
            "right": null,
            "top": null,
            "visibility": null,
            "width": null
          }
        },
        "db33ab9888464a10bff24044378d4aa8": {
          "model_module": "@jupyter-widgets/base",
          "model_name": "LayoutModel",
          "model_module_version": "1.2.0",
          "state": {
            "_model_module": "@jupyter-widgets/base",
            "_model_module_version": "1.2.0",
            "_model_name": "LayoutModel",
            "_view_count": null,
            "_view_module": "@jupyter-widgets/base",
            "_view_module_version": "1.2.0",
            "_view_name": "LayoutView",
            "align_content": null,
            "align_items": null,
            "align_self": null,
            "border": null,
            "bottom": null,
            "display": null,
            "flex": null,
            "flex_flow": null,
            "grid_area": null,
            "grid_auto_columns": null,
            "grid_auto_flow": null,
            "grid_auto_rows": null,
            "grid_column": null,
            "grid_gap": null,
            "grid_row": null,
            "grid_template_areas": null,
            "grid_template_columns": null,
            "grid_template_rows": null,
            "height": null,
            "justify_content": null,
            "justify_items": null,
            "left": null,
            "margin": null,
            "max_height": null,
            "max_width": null,
            "min_height": null,
            "min_width": null,
            "object_fit": null,
            "object_position": null,
            "order": null,
            "overflow": null,
            "overflow_x": null,
            "overflow_y": null,
            "padding": null,
            "right": null,
            "top": null,
            "visibility": null,
            "width": null
          }
        },
        "f239f031bd3a4d9d885ba068c2b5aa92": {
          "model_module": "@jupyter-widgets/controls",
          "model_name": "DescriptionStyleModel",
          "model_module_version": "1.5.0",
          "state": {
            "_model_module": "@jupyter-widgets/controls",
            "_model_module_version": "1.5.0",
            "_model_name": "DescriptionStyleModel",
            "_view_count": null,
            "_view_module": "@jupyter-widgets/base",
            "_view_module_version": "1.2.0",
            "_view_name": "StyleView",
            "description_width": ""
          }
        },
        "30ae571a37a64ca8be0a062b5bb2a2bd": {
          "model_module": "@jupyter-widgets/base",
          "model_name": "LayoutModel",
          "model_module_version": "1.2.0",
          "state": {
            "_model_module": "@jupyter-widgets/base",
            "_model_module_version": "1.2.0",
            "_model_name": "LayoutModel",
            "_view_count": null,
            "_view_module": "@jupyter-widgets/base",
            "_view_module_version": "1.2.0",
            "_view_name": "LayoutView",
            "align_content": null,
            "align_items": null,
            "align_self": null,
            "border": null,
            "bottom": null,
            "display": null,
            "flex": null,
            "flex_flow": null,
            "grid_area": null,
            "grid_auto_columns": null,
            "grid_auto_flow": null,
            "grid_auto_rows": null,
            "grid_column": null,
            "grid_gap": null,
            "grid_row": null,
            "grid_template_areas": null,
            "grid_template_columns": null,
            "grid_template_rows": null,
            "height": null,
            "justify_content": null,
            "justify_items": null,
            "left": null,
            "margin": null,
            "max_height": null,
            "max_width": null,
            "min_height": null,
            "min_width": null,
            "object_fit": null,
            "object_position": null,
            "order": null,
            "overflow": null,
            "overflow_x": null,
            "overflow_y": null,
            "padding": null,
            "right": null,
            "top": null,
            "visibility": null,
            "width": null
          }
        },
        "7f5db3fc4cbb4ae791214df043c5be6b": {
          "model_module": "@jupyter-widgets/controls",
          "model_name": "ProgressStyleModel",
          "model_module_version": "1.5.0",
          "state": {
            "_model_module": "@jupyter-widgets/controls",
            "_model_module_version": "1.5.0",
            "_model_name": "ProgressStyleModel",
            "_view_count": null,
            "_view_module": "@jupyter-widgets/base",
            "_view_module_version": "1.2.0",
            "_view_name": "StyleView",
            "bar_color": null,
            "description_width": ""
          }
        },
        "c3b756f709004831b373be5311cadad6": {
          "model_module": "@jupyter-widgets/base",
          "model_name": "LayoutModel",
          "model_module_version": "1.2.0",
          "state": {
            "_model_module": "@jupyter-widgets/base",
            "_model_module_version": "1.2.0",
            "_model_name": "LayoutModel",
            "_view_count": null,
            "_view_module": "@jupyter-widgets/base",
            "_view_module_version": "1.2.0",
            "_view_name": "LayoutView",
            "align_content": null,
            "align_items": null,
            "align_self": null,
            "border": null,
            "bottom": null,
            "display": null,
            "flex": null,
            "flex_flow": null,
            "grid_area": null,
            "grid_auto_columns": null,
            "grid_auto_flow": null,
            "grid_auto_rows": null,
            "grid_column": null,
            "grid_gap": null,
            "grid_row": null,
            "grid_template_areas": null,
            "grid_template_columns": null,
            "grid_template_rows": null,
            "height": null,
            "justify_content": null,
            "justify_items": null,
            "left": null,
            "margin": null,
            "max_height": null,
            "max_width": null,
            "min_height": null,
            "min_width": null,
            "object_fit": null,
            "object_position": null,
            "order": null,
            "overflow": null,
            "overflow_x": null,
            "overflow_y": null,
            "padding": null,
            "right": null,
            "top": null,
            "visibility": null,
            "width": null
          }
        },
        "aafc25eef3954894b1226da9f19aaadb": {
          "model_module": "@jupyter-widgets/controls",
          "model_name": "DescriptionStyleModel",
          "model_module_version": "1.5.0",
          "state": {
            "_model_module": "@jupyter-widgets/controls",
            "_model_module_version": "1.5.0",
            "_model_name": "DescriptionStyleModel",
            "_view_count": null,
            "_view_module": "@jupyter-widgets/base",
            "_view_module_version": "1.2.0",
            "_view_name": "StyleView",
            "description_width": ""
          }
        }
      }
    },
    "accelerator": "GPU"
  },
  "cells": [
    {
      "cell_type": "code",
      "source": [
        "# installing trranformers library to use distilBert\n",
        "!pip install transformers"
      ],
      "metadata": {
        "id": "AJH4xdsNpNrj"
      },
      "execution_count": null,
      "outputs": []
    },
    {
      "cell_type": "code",
      "execution_count": null,
      "metadata": {
        "id": "uvgeDQ7THBmf"
      },
      "outputs": [],
      "source": [
        "#importing all libraries\n",
        "import pandas as pd\n",
        "import numpy as np\n",
        "\n",
        "import matplotlib.pyplot as plt\n",
        "import seaborn as sns\n",
        "from wordcloud import WordCloud, STOPWORDS\n",
        "\n",
        "import torch\n",
        "import torch.nn as nn\n",
        "\n",
        "import transformers\n",
        "from torch.optim import AdamW, SGD\n",
        "from transformers import get_linear_schedule_with_warmup\n",
        "from transformers import DistilBertTokenizer, DistilBertModel\n",
        "from sklearn.metrics import f1_score, accuracy_score, recall_score, precision_score\n",
        "import torch.nn.functional as F\n",
        "\n",
        "import logging\n",
        "logging.basicConfig(level=logging.ERROR)\n"
      ]
    },
    {
      "cell_type": "code",
      "source": [
        "# loading train data\n",
        "train = pd.read_csv('/content/PARADE_train.txt', delimiter = \"\\t\")\n",
        "train = train[['Binary labels', 'Definition1','Definition2']]\n",
        "\n",
        "# loading test data\n",
        "test = pd.read_csv('/content/PARADE_test.txt', delimiter = \"\\t\")\n",
        "test = test[['Binary labels', 'Definition1','Definition2']]\n",
        "\n",
        "\n",
        "# loading validation data\n",
        "validation = pd.read_csv('/content/PARADE_validation.txt', delimiter = \"\\t\")\n",
        "validation = validation[['Binary labels', 'Definition1','Definition2']]\n",
        "\n",
        "train.head()"
      ],
      "metadata": {
        "colab": {
          "base_uri": "https://localhost:8080/",
          "height": 206
        },
        "id": "H30gizLDH2y7",
        "outputId": "e97a5121-c1c3-4332-b179-98e534098efc"
      },
      "execution_count": null,
      "outputs": [
        {
          "output_type": "execute_result",
          "data": {
            "text/plain": [
              "   Binary labels                                        Definition1  \\\n",
              "0              1  predictive models are involved with predicting...   \n",
              "1              1  predict a value based on other values in the d...   \n",
              "2              1  predicting one value (the target variable) usi...   \n",
              "3              1  predictive models are involved with predicting...   \n",
              "4              0  predict a value based on other values in the d...   \n",
              "\n",
              "                                         Definition2  \n",
              "0  predict a value based on other values in the d...  \n",
              "1  involved with predicting a value based on othe...  \n",
              "2  predictive models are involved with predicting...  \n",
              "3  predict value based on other values in data se...  \n",
              "4  predict value based on other values in data se...  "
            ],
            "text/html": [
              "\n",
              "  <div id=\"df-1bdfb744-c35e-413d-84ac-08670a46a708\">\n",
              "    <div class=\"colab-df-container\">\n",
              "      <div>\n",
              "<style scoped>\n",
              "    .dataframe tbody tr th:only-of-type {\n",
              "        vertical-align: middle;\n",
              "    }\n",
              "\n",
              "    .dataframe tbody tr th {\n",
              "        vertical-align: top;\n",
              "    }\n",
              "\n",
              "    .dataframe thead th {\n",
              "        text-align: right;\n",
              "    }\n",
              "</style>\n",
              "<table border=\"1\" class=\"dataframe\">\n",
              "  <thead>\n",
              "    <tr style=\"text-align: right;\">\n",
              "      <th></th>\n",
              "      <th>Binary labels</th>\n",
              "      <th>Definition1</th>\n",
              "      <th>Definition2</th>\n",
              "    </tr>\n",
              "  </thead>\n",
              "  <tbody>\n",
              "    <tr>\n",
              "      <th>0</th>\n",
              "      <td>1</td>\n",
              "      <td>predictive models are involved with predicting...</td>\n",
              "      <td>predict a value based on other values in the d...</td>\n",
              "    </tr>\n",
              "    <tr>\n",
              "      <th>1</th>\n",
              "      <td>1</td>\n",
              "      <td>predict a value based on other values in the d...</td>\n",
              "      <td>involved with predicting a value based on othe...</td>\n",
              "    </tr>\n",
              "    <tr>\n",
              "      <th>2</th>\n",
              "      <td>1</td>\n",
              "      <td>predicting one value (the target variable) usi...</td>\n",
              "      <td>predictive models are involved with predicting...</td>\n",
              "    </tr>\n",
              "    <tr>\n",
              "      <th>3</th>\n",
              "      <td>1</td>\n",
              "      <td>predictive models are involved with predicting...</td>\n",
              "      <td>predict value based on other values in data se...</td>\n",
              "    </tr>\n",
              "    <tr>\n",
              "      <th>4</th>\n",
              "      <td>0</td>\n",
              "      <td>predict a value based on other values in the d...</td>\n",
              "      <td>predict value based on other values in data se...</td>\n",
              "    </tr>\n",
              "  </tbody>\n",
              "</table>\n",
              "</div>\n",
              "      <button class=\"colab-df-convert\" onclick=\"convertToInteractive('df-1bdfb744-c35e-413d-84ac-08670a46a708')\"\n",
              "              title=\"Convert this dataframe to an interactive table.\"\n",
              "              style=\"display:none;\">\n",
              "        \n",
              "  <svg xmlns=\"http://www.w3.org/2000/svg\" height=\"24px\"viewBox=\"0 0 24 24\"\n",
              "       width=\"24px\">\n",
              "    <path d=\"M0 0h24v24H0V0z\" fill=\"none\"/>\n",
              "    <path d=\"M18.56 5.44l.94 2.06.94-2.06 2.06-.94-2.06-.94-.94-2.06-.94 2.06-2.06.94zm-11 1L8.5 8.5l.94-2.06 2.06-.94-2.06-.94L8.5 2.5l-.94 2.06-2.06.94zm10 10l.94 2.06.94-2.06 2.06-.94-2.06-.94-.94-2.06-.94 2.06-2.06.94z\"/><path d=\"M17.41 7.96l-1.37-1.37c-.4-.4-.92-.59-1.43-.59-.52 0-1.04.2-1.43.59L10.3 9.45l-7.72 7.72c-.78.78-.78 2.05 0 2.83L4 21.41c.39.39.9.59 1.41.59.51 0 1.02-.2 1.41-.59l7.78-7.78 2.81-2.81c.8-.78.8-2.07 0-2.86zM5.41 20L4 18.59l7.72-7.72 1.47 1.35L5.41 20z\"/>\n",
              "  </svg>\n",
              "      </button>\n",
              "      \n",
              "  <style>\n",
              "    .colab-df-container {\n",
              "      display:flex;\n",
              "      flex-wrap:wrap;\n",
              "      gap: 12px;\n",
              "    }\n",
              "\n",
              "    .colab-df-convert {\n",
              "      background-color: #E8F0FE;\n",
              "      border: none;\n",
              "      border-radius: 50%;\n",
              "      cursor: pointer;\n",
              "      display: none;\n",
              "      fill: #1967D2;\n",
              "      height: 32px;\n",
              "      padding: 0 0 0 0;\n",
              "      width: 32px;\n",
              "    }\n",
              "\n",
              "    .colab-df-convert:hover {\n",
              "      background-color: #E2EBFA;\n",
              "      box-shadow: 0px 1px 2px rgba(60, 64, 67, 0.3), 0px 1px 3px 1px rgba(60, 64, 67, 0.15);\n",
              "      fill: #174EA6;\n",
              "    }\n",
              "\n",
              "    [theme=dark] .colab-df-convert {\n",
              "      background-color: #3B4455;\n",
              "      fill: #D2E3FC;\n",
              "    }\n",
              "\n",
              "    [theme=dark] .colab-df-convert:hover {\n",
              "      background-color: #434B5C;\n",
              "      box-shadow: 0px 1px 3px 1px rgba(0, 0, 0, 0.15);\n",
              "      filter: drop-shadow(0px 1px 2px rgba(0, 0, 0, 0.3));\n",
              "      fill: #FFFFFF;\n",
              "    }\n",
              "  </style>\n",
              "\n",
              "      <script>\n",
              "        const buttonEl =\n",
              "          document.querySelector('#df-1bdfb744-c35e-413d-84ac-08670a46a708 button.colab-df-convert');\n",
              "        buttonEl.style.display =\n",
              "          google.colab.kernel.accessAllowed ? 'block' : 'none';\n",
              "\n",
              "        async function convertToInteractive(key) {\n",
              "          const element = document.querySelector('#df-1bdfb744-c35e-413d-84ac-08670a46a708');\n",
              "          const dataTable =\n",
              "            await google.colab.kernel.invokeFunction('convertToInteractive',\n",
              "                                                     [key], {});\n",
              "          if (!dataTable) return;\n",
              "\n",
              "          const docLinkHtml = 'Like what you see? Visit the ' +\n",
              "            '<a target=\"_blank\" href=https://colab.research.google.com/notebooks/data_table.ipynb>data table notebook</a>'\n",
              "            + ' to learn more about interactive tables.';\n",
              "          element.innerHTML = '';\n",
              "          dataTable['output_type'] = 'display_data';\n",
              "          await google.colab.output.renderOutput(dataTable, element);\n",
              "          const docLink = document.createElement('div');\n",
              "          docLink.innerHTML = docLinkHtml;\n",
              "          element.appendChild(docLink);\n",
              "        }\n",
              "      </script>\n",
              "    </div>\n",
              "  </div>\n",
              "  "
            ]
          },
          "metadata": {},
          "execution_count": 14
        }
      ]
    },
    {
      "cell_type": "markdown",
      "source": [
        "#EDA"
      ],
      "metadata": {
        "id": "dreOTHMgwPfP"
      }
    },
    {
      "cell_type": "code",
      "source": [
        "# printing the info \n",
        "train.info()"
      ],
      "metadata": {
        "id": "xtybTNUSImzJ",
        "colab": {
          "base_uri": "https://localhost:8080/"
        },
        "outputId": "87e152fe-cfa1-4412-993d-113f06bf520b"
      },
      "execution_count": null,
      "outputs": [
        {
          "output_type": "stream",
          "name": "stdout",
          "text": [
            "<class 'pandas.core.frame.DataFrame'>\n",
            "RangeIndex: 7550 entries, 0 to 7549\n",
            "Data columns (total 3 columns):\n",
            " #   Column         Non-Null Count  Dtype \n",
            "---  ------         --------------  ----- \n",
            " 0   Binary labels  7550 non-null   int64 \n",
            " 1   Definition1    7550 non-null   object\n",
            " 2   Definition2    7550 non-null   object\n",
            "dtypes: int64(1), object(2)\n",
            "memory usage: 177.1+ KB\n"
          ]
        }
      ]
    },
    {
      "cell_type": "code",
      "source": [
        "nanRows = train[train.isnull().any(1)]\n",
        "print(nanRows)"
      ],
      "metadata": {
        "colab": {
          "base_uri": "https://localhost:8080/"
        },
        "id": "jLAlZ_f23AIn",
        "outputId": "00d1738e-d8cb-4940-812e-8e12c1605537"
      },
      "execution_count": null,
      "outputs": [
        {
          "output_type": "stream",
          "name": "stdout",
          "text": [
            "Empty DataFrame\n",
            "Columns: [Binary labels, Definition1, Definition2]\n",
            "Index: []\n"
          ]
        }
      ]
    },
    {
      "cell_type": "code",
      "source": [
        "# fetching the information about how the samples in data are distributed into both classes\n",
        "\n",
        "trainVis = train.copy(deep = True)\n",
        "\n",
        "pd.value_counts(trainVis['Binary labels']).plot.bar()"
      ],
      "metadata": {
        "colab": {
          "base_uri": "https://localhost:8080/",
          "height": 279
        },
        "id": "M2UDact71vz4",
        "outputId": "e000ede9-5a34-428f-c97d-45d314370ca5"
      },
      "execution_count": null,
      "outputs": [
        {
          "output_type": "execute_result",
          "data": {
            "text/plain": [
              "<matplotlib.axes._subplots.AxesSubplot at 0x7f23ef6748d0>"
            ]
          },
          "metadata": {},
          "execution_count": 29
        },
        {
          "output_type": "display_data",
          "data": {
            "text/plain": [
              "<Figure size 432x288 with 1 Axes>"
            ],
            "image/png": "[encoded data removed]"
          },
          "metadata": {
            "needs_background": "light"
          }
        }
      ]
    },
    {
      "cell_type": "code",
      "source": [
        "def count_common_words(row):\n",
        "    # function to get the number of common words in both the definations\n",
        "    setWords1 = set(map(lambda word: word.lower().strip(), row['Definition1'].split()))\n",
        "    setWords2 = set(map(lambda word: word.lower().strip(), row['Definition2'].split()))    \n",
        "    return 1.0 * len(setWords1 & setWords2)\n",
        "\n",
        "def common_words_ratio(row):\n",
        "    # function to get the ratio of common words from both the definations\n",
        "    setWords1 = set(map(lambda word: word.lower().strip(), row['Definition1'].split(\" \")))\n",
        "    setWords2 = set(map(lambda word: word.lower().strip(), row['Definition2'].split(\" \")))    \n",
        "    return 1.0 * len(setWords1 & setWords2)/(len(setWords1) + len(setWords2))"
      ],
      "metadata": {
        "id": "EfndCEZR4T9K"
      },
      "execution_count": null,
      "outputs": []
    },
    {
      "cell_type": "code",
      "source": [
        "# adding new columns to the dataframe for more plot visualization\n",
        "trainVis['s1len'] = trainVis['Definition1'].str.len() \n",
        "trainVis['s2len'] = trainVis['Definition2'].str.len()\n",
        "trainVis['s1Words'] = trainVis['Definition1'].apply(lambda row: len(row.split()))\n",
        "trainVis['s2Words'] = trainVis['Definition2'].apply(lambda row: len(row.split()))\n",
        "trainVis['commonWords'] = trainVis.apply(count_common_words, axis = 1)\n",
        "trainVis['commonWordsRatio'] = trainVis.apply(common_words_ratio, axis = 1)\n",
        "\n",
        "trainVis.head()"
      ],
      "metadata": {
        "colab": {
          "base_uri": "https://localhost:8080/",
          "height": 250
        },
        "id": "TRiDGX_220cH",
        "outputId": "8647bb2c-11d5-4bd8-9d23-eb4785f02200"
      },
      "execution_count": null,
      "outputs": [
        {
          "output_type": "execute_result",
          "data": {
            "text/plain": [
              "   Binary labels                                        Definition1  \\\n",
              "0              1  predictive models are involved with predicting...   \n",
              "1              1  predict a value based on other values in the d...   \n",
              "2              1  predicting one value (the target variable) usi...   \n",
              "3              1  predictive models are involved with predicting...   \n",
              "4              0  predict a value based on other values in the d...   \n",
              "\n",
              "                                         Definition2  s1len  s2len  s1Words  \\\n",
              "0  predict a value based on other values in the d...    168    110       27   \n",
              "1  involved with predicting a value based on othe...    110    141       19   \n",
              "2  predictive models are involved with predicting...     61     92        9   \n",
              "3  predict value based on other values in data se...    168    104       27   \n",
              "4  predict value based on other values in data se...    110    104       19   \n",
              "\n",
              "   s2Words  commonWords  commonWordsRatio  \n",
              "0       19         16.0          0.380952  \n",
              "1       24         14.0          0.341463  \n",
              "2       15          4.0          0.166667  \n",
              "3       16          7.0          0.179487  \n",
              "4       16          8.0          0.242424  "
            ],
            "text/html": [
              "\n",
              "  <div id=\"df-5588e7c3-317a-431d-8e84-311dd9a6ab7f\">\n",
              "    <div class=\"colab-df-container\">\n",
              "      <div>\n",
              "<style scoped>\n",
              "    .dataframe tbody tr th:only-of-type {\n",
              "        vertical-align: middle;\n",
              "    }\n",
              "\n",
              "    .dataframe tbody tr th {\n",
              "        vertical-align: top;\n",
              "    }\n",
              "\n",
              "    .dataframe thead th {\n",
              "        text-align: right;\n",
              "    }\n",
              "</style>\n",
              "<table border=\"1\" class=\"dataframe\">\n",
              "  <thead>\n",
              "    <tr style=\"text-align: right;\">\n",
              "      <th></th>\n",
              "      <th>Binary labels</th>\n",
              "      <th>Definition1</th>\n",
              "      <th>Definition2</th>\n",
              "      <th>s1len</th>\n",
              "      <th>s2len</th>\n",
              "      <th>s1Words</th>\n",
              "      <th>s2Words</th>\n",
              "      <th>commonWords</th>\n",
              "      <th>commonWordsRatio</th>\n",
              "    </tr>\n",
              "  </thead>\n",
              "  <tbody>\n",
              "    <tr>\n",
              "      <th>0</th>\n",
              "      <td>1</td>\n",
              "      <td>predictive models are involved with predicting...</td>\n",
              "      <td>predict a value based on other values in the d...</td>\n",
              "      <td>168</td>\n",
              "      <td>110</td>\n",
              "      <td>27</td>\n",
              "      <td>19</td>\n",
              "      <td>16.0</td>\n",
              "      <td>0.380952</td>\n",
              "    </tr>\n",
              "    <tr>\n",
              "      <th>1</th>\n",
              "      <td>1</td>\n",
              "      <td>predict a value based on other values in the d...</td>\n",
              "      <td>involved with predicting a value based on othe...</td>\n",
              "      <td>110</td>\n",
              "      <td>141</td>\n",
              "      <td>19</td>\n",
              "      <td>24</td>\n",
              "      <td>14.0</td>\n",
              "      <td>0.341463</td>\n",
              "    </tr>\n",
              "    <tr>\n",
              "      <th>2</th>\n",
              "      <td>1</td>\n",
              "      <td>predicting one value (the target variable) usi...</td>\n",
              "      <td>predictive models are involved with predicting...</td>\n",
              "      <td>61</td>\n",
              "      <td>92</td>\n",
              "      <td>9</td>\n",
              "      <td>15</td>\n",
              "      <td>4.0</td>\n",
              "      <td>0.166667</td>\n",
              "    </tr>\n",
              "    <tr>\n",
              "      <th>3</th>\n",
              "      <td>1</td>\n",
              "      <td>predictive models are involved with predicting...</td>\n",
              "      <td>predict value based on other values in data se...</td>\n",
              "      <td>168</td>\n",
              "      <td>104</td>\n",
              "      <td>27</td>\n",
              "      <td>16</td>\n",
              "      <td>7.0</td>\n",
              "      <td>0.179487</td>\n",
              "    </tr>\n",
              "    <tr>\n",
              "      <th>4</th>\n",
              "      <td>0</td>\n",
              "      <td>predict a value based on other values in the d...</td>\n",
              "      <td>predict value based on other values in data se...</td>\n",
              "      <td>110</td>\n",
              "      <td>104</td>\n",
              "      <td>19</td>\n",
              "      <td>16</td>\n",
              "      <td>8.0</td>\n",
              "      <td>0.242424</td>\n",
              "    </tr>\n",
              "  </tbody>\n",
              "</table>\n",
              "</div>\n",
              "      <button class=\"colab-df-convert\" onclick=\"convertToInteractive('df-5588e7c3-317a-431d-8e84-311dd9a6ab7f')\"\n",
              "              title=\"Convert this dataframe to an interactive table.\"\n",
              "              style=\"display:none;\">\n",
              "        \n",
              "  <svg xmlns=\"http://www.w3.org/2000/svg\" height=\"24px\"viewBox=\"0 0 24 24\"\n",
              "       width=\"24px\">\n",
              "    <path d=\"M0 0h24v24H0V0z\" fill=\"none\"/>\n",
              "    <path d=\"M18.56 5.44l.94 2.06.94-2.06 2.06-.94-2.06-.94-.94-2.06-.94 2.06-2.06.94zm-11 1L8.5 8.5l.94-2.06 2.06-.94-2.06-.94L8.5 2.5l-.94 2.06-2.06.94zm10 10l.94 2.06.94-2.06 2.06-.94-2.06-.94-.94-2.06-.94 2.06-2.06.94z\"/><path d=\"M17.41 7.96l-1.37-1.37c-.4-.4-.92-.59-1.43-.59-.52 0-1.04.2-1.43.59L10.3 9.45l-7.72 7.72c-.78.78-.78 2.05 0 2.83L4 21.41c.39.39.9.59 1.41.59.51 0 1.02-.2 1.41-.59l7.78-7.78 2.81-2.81c.8-.78.8-2.07 0-2.86zM5.41 20L4 18.59l7.72-7.72 1.47 1.35L5.41 20z\"/>\n",
              "  </svg>\n",
              "      </button>\n",
              "      \n",
              "  <style>\n",
              "    .colab-df-container {\n",
              "      display:flex;\n",
              "      flex-wrap:wrap;\n",
              "      gap: 12px;\n",
              "    }\n",
              "\n",
              "    .colab-df-convert {\n",
              "      background-color: #E8F0FE;\n",
              "      border: none;\n",
              "      border-radius: 50%;\n",
              "      cursor: pointer;\n",
              "      display: none;\n",
              "      fill: #1967D2;\n",
              "      height: 32px;\n",
              "      padding: 0 0 0 0;\n",
              "      width: 32px;\n",
              "    }\n",
              "\n",
              "    .colab-df-convert:hover {\n",
              "      background-color: #E2EBFA;\n",
              "      box-shadow: 0px 1px 2px rgba(60, 64, 67, 0.3), 0px 1px 3px 1px rgba(60, 64, 67, 0.15);\n",
              "      fill: #174EA6;\n",
              "    }\n",
              "\n",
              "    [theme=dark] .colab-df-convert {\n",
              "      background-color: #3B4455;\n",
              "      fill: #D2E3FC;\n",
              "    }\n",
              "\n",
              "    [theme=dark] .colab-df-convert:hover {\n",
              "      background-color: #434B5C;\n",
              "      box-shadow: 0px 1px 3px 1px rgba(0, 0, 0, 0.15);\n",
              "      filter: drop-shadow(0px 1px 2px rgba(0, 0, 0, 0.3));\n",
              "      fill: #FFFFFF;\n",
              "    }\n",
              "  </style>\n",
              "\n",
              "      <script>\n",
              "        const buttonEl =\n",
              "          document.querySelector('#df-5588e7c3-317a-431d-8e84-311dd9a6ab7f button.colab-df-convert');\n",
              "        buttonEl.style.display =\n",
              "          google.colab.kernel.accessAllowed ? 'block' : 'none';\n",
              "\n",
              "        async function convertToInteractive(key) {\n",
              "          const element = document.querySelector('#df-5588e7c3-317a-431d-8e84-311dd9a6ab7f');\n",
              "          const dataTable =\n",
              "            await google.colab.kernel.invokeFunction('convertToInteractive',\n",
              "                                                     [key], {});\n",
              "          if (!dataTable) return;\n",
              "\n",
              "          const docLinkHtml = 'Like what you see? Visit the ' +\n",
              "            '<a target=\"_blank\" href=https://colab.research.google.com/notebooks/data_table.ipynb>data table notebook</a>'\n",
              "            + ' to learn more about interactive tables.';\n",
              "          element.innerHTML = '';\n",
              "          dataTable['output_type'] = 'display_data';\n",
              "          await google.colab.output.renderOutput(dataTable, element);\n",
              "          const docLink = document.createElement('div');\n",
              "          docLink.innerHTML = docLinkHtml;\n",
              "          element.appendChild(docLink);\n",
              "        }\n",
              "      </script>\n",
              "    </div>\n",
              "  </div>\n",
              "  "
            ]
          },
          "metadata": {},
          "execution_count": 31
        }
      ]
    },
    {
      "cell_type": "code",
      "source": [
        "# visualizing the length of both definitions\n",
        "\n",
        "plt.hist(trainVis['s1len'], bins=10, alpha=.7, color = 'blue')\n",
        "plt.hist(trainVis['s2len'], bins=10, alpha=.5, color = 'orange')\n",
        "plt.show()"
      ],
      "metadata": {
        "colab": {
          "base_uri": "https://localhost:8080/",
          "height": 265
        },
        "id": "TdvXZ6vX5iGf",
        "outputId": "c4e90230-b6ef-48d6-9d7c-36795e344145"
      },
      "execution_count": null,
      "outputs": [
        {
          "output_type": "display_data",
          "data": {
            "text/plain": [
              "<Figure size 432x288 with 1 Axes>"
            ],
            "image/png": "[encoded data removed]"
          },
          "metadata": {
            "needs_background": "light"
          }
        }
      ]
    },
    {
      "cell_type": "code",
      "source": [
        "# visualizing the no. of words in both definitions\n",
        "plt.hist(trainVis['s1Words'], bins=10, alpha=.7, color = 'blue')\n",
        "plt.hist(trainVis['s2Words'], bins=10, alpha=.5, color = 'orange')\n",
        "plt.show()"
      ],
      "metadata": {
        "colab": {
          "base_uri": "https://localhost:8080/",
          "height": 265
        },
        "id": "Scpbxjnt6uar",
        "outputId": "2f1e4971-c131-414b-8fd7-afd0b9788ff0"
      },
      "execution_count": null,
      "outputs": [
        {
          "output_type": "display_data",
          "data": {
            "text/plain": [
              "<Figure size 432x288 with 1 Axes>"
            ],
            "image/png": "[encoded data removed]"
          },
          "metadata": {
            "needs_background": "light"
          }
        }
      ]
    },
    {
      "cell_type": "code",
      "source": [
        "# Comparison for Common words in both sentences\n",
        "plt.figure(figsize = (12, 8))\n",
        "\n",
        "plt.subplot(1, 2, 1)\n",
        "sns.violinplot(x = 'Binary labels', y = 'commonWords', data = trainVis[0:])\n",
        "\n",
        "plt.subplot(1, 2, 2)\n",
        "sns.histplot(trainVis[trainVis['Binary labels'] == 1.0]['commonWords'][0:] , label = \"1\", color = 'orange', kde = True, stat=\"density\", linewidth = 0)\n",
        "sns.histplot(trainVis[trainVis['Binary labels'] == 0.0]['commonWords'][0:] , label = \"0\" , color = 'blue', kde = True, stat=\"density\", linewidth = 0 )\n",
        "plt.show()"
      ],
      "metadata": {
        "colab": {
          "base_uri": "https://localhost:8080/",
          "height": 497
        },
        "id": "y8kvF5Yy7MKg",
        "outputId": "3f709471-c568-4e5d-8e79-ff90a4e5bfae"
      },
      "execution_count": null,
      "outputs": [
        {
          "output_type": "display_data",
          "data": {
            "text/plain": [
              "<Figure size 864x576 with 2 Axes>"
            ],
            "image/png": "[encoded data removed]"
          },
          "metadata": {
            "needs_background": "light"
          }
        }
      ]
    },
    {
      "cell_type": "code",
      "source": [
        "# Comparison for Common words ratio in both sentences\n",
        "plt.figure(figsize = (12, 8))\n",
        "\n",
        "plt.subplot(1, 2, 1)\n",
        "sns.violinplot(x = 'Binary labels', y = 'commonWordsRatio', data = trainVis[0:])\n",
        "\n",
        "plt.subplot(1, 2, 2)\n",
        "sns.histplot(trainVis[trainVis['Binary labels'] == 1.0]['commonWordsRatio'][0:] , label = \"1\", color = 'orange', kde=True, stat=\"density\", linewidth=0)\n",
        "sns.histplot(trainVis[trainVis['Binary labels'] == 0.0]['commonWordsRatio'][0:] , label = \"0\" , color = 'blue' , kde=True, stat=\"density\", linewidth=0)\n",
        "plt.show()"
      ],
      "metadata": {
        "colab": {
          "base_uri": "https://localhost:8080/",
          "height": 497
        },
        "id": "lEsPvQAT8PZ6",
        "outputId": "040c0832-8bdb-4173-e621-f7452500d617"
      },
      "execution_count": null,
      "outputs": [
        {
          "output_type": "display_data",
          "data": {
            "text/plain": [
              "<Figure size 864x576 with 2 Axes>"
            ],
            "image/png": "[encoded data removed]"
          },
          "metadata": {
            "needs_background": "light"
          }
        }
      ]
    },
    {
      "cell_type": "code",
      "source": [
        "trainVisParaphrase = trainVis[trainVis['Binary labels'] == 1]\n",
        "trainVisNotParaphrase = trainVis[trainVis['Binary labels'] == 0]\n",
        "\n",
        "p = np.dstack([trainVisParaphrase[\"Definition1\"], trainVisParaphrase[\"Definition2\"]]).flatten()\n",
        "n = np.dstack([trainVisNotParaphrase[\"Definition1\"], trainVisNotParaphrase[\"Definition2\"]]).flatten()\n",
        "\n",
        "print(\"The word cloud for definitions that are paraphrased\")\n",
        "wcP = WordCloud(background_color = \"white\", max_words = len(p), stopwords = STOPWORDS).generate(str(p))\n",
        "plt.imshow(wcP)\n",
        "plt.axis(\"off\")\n",
        "plt.show()\n",
        "\n",
        "\n",
        "print()\n",
        "print(\"The word cloud for definitions that are not paraphrased\")\n",
        "wcN = WordCloud(background_color=\"white\", max_words = len(n), stopwords = STOPWORDS).generate(str(n))\n",
        "plt.imshow(wcN)\n",
        "plt.axis(\"off\")\n",
        "plt.show()\n"
      ],
      "metadata": {
        "colab": {
          "base_uri": "https://localhost:8080/",
          "height": 431
        },
        "id": "_4OSW4dP8Kh9",
        "outputId": "210dffa7-dfd5-4f3f-80f5-224c2cb3032d"
      },
      "execution_count": null,
      "outputs": [
        {
          "output_type": "stream",
          "name": "stdout",
          "text": [
            "The word cloud for definitions that are paraphrased\n"
          ]
        },
        {
          "output_type": "display_data",
          "data": {
            "text/plain": [
              "<Figure size 432x288 with 1 Axes>"
            ],
            "image/png": "[encoded data removed]"
          },
          "metadata": {
            "needs_background": "light"
          }
        },
        {
          "output_type": "stream",
          "name": "stdout",
          "text": [
            "\n",
            "The word cloud for definitions that are not paraphrased\n"
          ]
        },
        {
          "output_type": "display_data",
          "data": {
            "text/plain": [
              "<Figure size 432x288 with 1 Axes>"
            ],
            "image/png": "[encoded data removed]"
          },
          "metadata": {
            "needs_background": "light"
          }
        }
      ]
    },
    {
      "cell_type": "markdown",
      "source": [
        "#training"
      ],
      "metadata": {
        "id": "3uJB2fItwTNp"
      }
    },
    {
      "cell_type": "code",
      "source": [
        "device = torch.device(\"cuda\" if torch.cuda.is_available() else \"cpu\")\n",
        "device"
      ],
      "metadata": {
        "id": "jwCMhclxABbu",
        "colab": {
          "base_uri": "https://localhost:8080/"
        },
        "outputId": "41714d6d-e8f7-43b4-9ac0-33b526e1e1c6"
      },
      "execution_count": null,
      "outputs": [
        {
          "output_type": "execute_result",
          "data": {
            "text/plain": [
              "device(type='cpu')"
            ]
          },
          "metadata": {},
          "execution_count": 6
        }
      ]
    },
    {
      "cell_type": "code",
      "source": [
        "# setting the random seed generator values to particulur constants to control the degree of randomness in the training process\n",
        "SEED = 1234\n",
        "\n",
        "np.random.seed(SEED)\n",
        "torch.manual_seed(SEED)\n",
        "torch.cuda.manual_seed(SEED)\n",
        "torch.backends.cudnn.deterministic = True"
      ],
      "metadata": {
        "id": "MQqXRX06bXBH"
      },
      "execution_count": null,
      "outputs": []
    },
    {
      "cell_type": "code",
      "source": [
        "# setting the hyper parameters for setting up transformer \n",
        "VERSION = 'distilbert-base-uncased'\n",
        "POOLED_OUTPUT_DIM = 768\n",
        "MAX_LEN = 35\n",
        "BS = 64"
      ],
      "metadata": {
        "id": "uGv7UgNtbW6L"
      },
      "execution_count": null,
      "outputs": []
    },
    {
      "cell_type": "code",
      "source": [
        "# defining the dataset class used to set the format of the \n",
        "# data that is suitable for the DistilBert's implementation \n",
        "\n",
        "class DistilBertDataSet:\n",
        "    def __init__(self, firstDefinitions, secondDefinitions, targets, tokenizer):\n",
        "        self.firstDefinitions = firstDefinitions\n",
        "        self.secondDefinitions = secondDefinitions\n",
        "        self.targets = targets\n",
        "        self.tokenizer = tokenizer\n",
        "        self.length = max(len(secondDefinitions), len(firstDefinitions))\n",
        "        \n",
        "    def __len__(self):\n",
        "        return self.length\n",
        "\n",
        "    def __getitem__(self, item):\n",
        "        firstDefinition = str(self.firstDefinitions[item])\n",
        "        secondDefinition = str(self.secondDefinitions[item])\n",
        "\n",
        "        firstDefinition = \" \".join(firstDefinition.split())\n",
        "        secondDefinition = \" \".join(secondDefinition.split())\n",
        "        \n",
        "        inputs = self.tokenizer.encode_plus(\n",
        "            firstDefinition,\n",
        "            secondDefinition,\n",
        "            add_special_tokens = True,\n",
        "            padding = 'max_length',\n",
        "            max_length = 2 * MAX_LEN + 3, \n",
        "            truncation = True \n",
        "        )\n",
        "        \n",
        "        return {\n",
        "            \"ids\": torch.tensor(inputs[\"input_ids\"], dtype = torch.long),\n",
        "            \"mask\": torch.tensor(inputs[\"attention_mask\"], dtype = torch.long),\n",
        "            \"targets\": torch.tensor(int(self.targets[item]), dtype = torch.long) if self.targets is not None else 0\n",
        "        }\n",
        "      "
      ],
      "metadata": {
        "id": "HfF_mz0gbWmz"
      },
      "execution_count": null,
      "outputs": []
    },
    {
      "cell_type": "code",
      "source": [
        "def get_data_loader(df, targets, batch_size, shuffle, tokenizer):\n",
        "    # helper function to define and return the dataloder used for training the model\n",
        "    dataset = DistilBertDataSet(\n",
        "        firstDefinitions = df[\"Definition1\"].values,\n",
        "        secondDefinitions = df[\"Definition2\"].values,\n",
        "        targets = targets,\n",
        "        tokenizer = tokenizer\n",
        "    )\n",
        "    \n",
        "    data_loader = torch.utils.data.DataLoader(\n",
        "        dataset,\n",
        "        batch_size = batch_size,\n",
        "        shuffle = shuffle\n",
        "    )\n",
        "    \n",
        "    return data_loader"
      ],
      "metadata": {
        "id": "aHgbo3GJbWjU"
      },
      "execution_count": null,
      "outputs": []
    },
    {
      "cell_type": "code",
      "source": [
        "# loading pretrained tokenizer\n",
        "tokenizer = DistilBertTokenizer.from_pretrained(VERSION)"
      ],
      "metadata": {
        "id": "IJSmtFDKbWra",
        "colab": {
          "base_uri": "https://localhost:8080/",
          "height": 113,
          "referenced_widgets": [
            "c330999ca958484ca21cb858fad91ed6",
            "c7504389f33946e4aceff11d18da5803",
            "cbbf80b31a3348aca3645a426546b69f",
            "1faa596f2b8c43768d4772167ad249d8",
            "36bcbdad827e499cbe91e7b9685dc42c",
            "8f5551d74de545e595053437f1078222",
            "8fc590a517f145e5aebea862da9b2828",
            "36dd6e1ddc7944beaa67dce47ad098d8",
            "3705dd7d614140a5bc0ec7b717f8325d",
            "e21e44125365484a8e91a6b3c40abc9e",
            "5d6af4562c234518b1094e06dbc60cb3",
            "cf95449cee674788945f5ee77c0cd4b8",
            "0982a8d07ca1498f910fbb351524c3e4",
            "dca58c98211341ac8a361f6e75ba4e1d",
            "6e84c63517f642f9abb19ba21fc6201e",
            "c2071b1500e04095b8858b51d28183c9",
            "05343f58ad6847d38bedaab2eb670958",
            "247b488dbea4494ab16e16b5c6b64744",
            "6d83f505411f45f6b8d28caaf3c94c66",
            "8aec7939c4e2428c837b43f051a15ac9",
            "749f937e215e438b8308308eb7ecf575",
            "768ecf7bfad041a685c79e87eb71c158",
            "7c9acc926fb348daa684d4c6d127f4cc",
            "87314ac6b1cd4c1ea30c1e5fd09564fb",
            "c2f3913abea0400ba3464f3811383ac1",
            "0ac1175d4b6a4bf382b01290aa78f6ef",
            "caff14c0520b42abbc55b2279aaa6473",
            "db33ab9888464a10bff24044378d4aa8",
            "f239f031bd3a4d9d885ba068c2b5aa92",
            "30ae571a37a64ca8be0a062b5bb2a2bd",
            "7f5db3fc4cbb4ae791214df043c5be6b",
            "c3b756f709004831b373be5311cadad6",
            "aafc25eef3954894b1226da9f19aaadb"
          ]
        },
        "outputId": "9d0864b3-eca5-4bac-aeca-17cff467973a"
      },
      "execution_count": null,
      "outputs": [
        {
          "output_type": "display_data",
          "data": {
            "text/plain": [
              "Downloading:   0%|          | 0.00/226k [00:00<?, ?B/s]"
            ],
            "application/vnd.jupyter.widget-view+json": {
              "version_major": 2,
              "version_minor": 0,
              "model_id": "c330999ca958484ca21cb858fad91ed6"
            }
          },
          "metadata": {}
        },
        {
          "output_type": "display_data",
          "data": {
            "text/plain": [
              "Downloading:   0%|          | 0.00/28.0 [00:00<?, ?B/s]"
            ],
            "application/vnd.jupyter.widget-view+json": {
              "version_major": 2,
              "version_minor": 0,
              "model_id": "cf95449cee674788945f5ee77c0cd4b8"
            }
          },
          "metadata": {}
        },
        {
          "output_type": "display_data",
          "data": {
            "text/plain": [
              "Downloading:   0%|          | 0.00/483 [00:00<?, ?B/s]"
            ],
            "application/vnd.jupyter.widget-view+json": {
              "version_major": 2,
              "version_minor": 0,
              "model_id": "7c9acc926fb348daa684d4c6d127f4cc"
            }
          },
          "metadata": {}
        }
      ]
    },
    {
      "cell_type": "code",
      "source": [
        "# creating data loader for train data\n",
        "train_data_loader = get_data_loader(\n",
        "    df = train,\n",
        "    targets = train[\"Binary labels\"].values,\n",
        "    batch_size = BS,\n",
        "    shuffle = True,\n",
        "    tokenizer = tokenizer\n",
        ")\n",
        "\n",
        "# creating data loader for test data\n",
        "test_data_loader = get_data_loader(\n",
        "    df = test,\n",
        "    targets = test[\"Binary labels\"].values,\n",
        "    batch_size = BS,\n",
        "    shuffle = True,\n",
        "    tokenizer = tokenizer\n",
        ")\n",
        "\n",
        "# creating data loader for validation data\n",
        "val_data_loader = get_data_loader(\n",
        "    df = validation,\n",
        "    targets = validation[\"Binary labels\"].values,\n",
        "    batch_size = 4 * BS,\n",
        "    shuffle = True,\n",
        "    tokenizer = tokenizer\n",
        ")\n",
        "\n"
      ],
      "metadata": {
        "id": "ufYJ5hOUbWfT"
      },
      "execution_count": null,
      "outputs": []
    },
    {
      "cell_type": "code",
      "source": [
        "# Attention class to apply attetion mechanism in our model\n",
        "class Attention(nn.Module):\n",
        "\n",
        "    def __init__(self, hidden_size, batch_first=False):\n",
        "        super(Attention, self).__init__()\n",
        "\n",
        "        self.hidden_size = hidden_size\n",
        "        std = 1.0 / np.sqrt(self.hidden_size)\n",
        "\n",
        "        self.batch_first = batch_first\n",
        "\n",
        "        self.att_weights = nn.Parameter(torch.Tensor(1, hidden_size), requires_grad=True)\n",
        "\n",
        "        for weight in self.att_weights:\n",
        "            nn.init.uniform_(weight, -std, std)\n",
        "\n",
        "\n",
        "    def forward(self, inputs):\n",
        "        if self.batch_first:\n",
        "            batch_size, max_len = inputs.size()[:2]\n",
        "        else:\n",
        "            max_len, batch_size = inputs.size()[:2]\n",
        "            \n",
        "        weights = torch.bmm(inputs,\n",
        "                            self.att_weights \n",
        "                            .permute(1, 0)  \n",
        "                            .unsqueeze(0)  \n",
        "                            .repeat(batch_size, 1, 1) \n",
        "                            )\n",
        "    \n",
        "        attentions = torch.softmax(F.relu(weights.squeeze()), dim=-1)\n",
        "\n",
        "        mask = torch.ones(attentions.size(), requires_grad=True).cuda()\n",
        "        \n",
        "        masked = attentions * mask\n",
        "        _sums = masked.sum(-1).unsqueeze(-1)  \n",
        "        \n",
        "        attentions = masked.div(_sums)\n",
        "\n",
        "        weighted = torch.mul(inputs, attentions.unsqueeze(-1).expand_as(inputs))\n",
        "\n",
        "        representations = weighted.sum(1).squeeze()\n",
        "\n",
        "        return representations, attentions"
      ],
      "metadata": {
        "id": "lTaP3Pi7n2Ov"
      },
      "execution_count": null,
      "outputs": []
    },
    {
      "cell_type": "code",
      "source": [
        "# Final Model Class\n",
        "class DistilBertModel(nn.Module):\n",
        "    def __init__(self, distilbertPath,finetune_BERT,freezed_layers):\n",
        "        super(DistilBertModel, self).__init__()\n",
        "        self.distilbertPath = distilbertPath\n",
        "        self.distilbert = transformers.DistilBertModel.from_pretrained(self.distilbertPath)\n",
        "\n",
        "        # Make DistilBERT layers untrainable/trainable\n",
        "\n",
        "        if not finetune_BERT:\n",
        "          for layer in freezed_layers:\n",
        "              if layer == -1:\n",
        "                l_name = \"embeddings\"\n",
        "              \n",
        "              else:\n",
        "                l_name = 'transformer.layer.' + str(layer)\n",
        "\n",
        "              for name, param in self.distilbert.named_parameters():\n",
        "                  if l_name in name:\n",
        "                    param.requires_grad = finetune_BERT\n",
        "                    \n",
        "        \n",
        "        self.lstm1 = nn.LSTM(input_size = 768,\n",
        "                            hidden_size = 100,\n",
        "                            num_layers = 1, \n",
        "                            bidirectional = True, batch_first = True)\n",
        "        self.atten1 = Attention(100*2, batch_first = True)\n",
        "       \n",
        "        self.lstm2 = nn.LSTM(input_size = 100*2,\n",
        "                            hidden_size = 100,\n",
        "                            num_layers = 1, \n",
        "                            bidirectional = True, batch_first = True)\n",
        "        self.atten2 = Attention(100*2, batch_first = True)\n",
        "         \n",
        "        self.fc1 = nn.Sequential(nn.Linear(100*2*2, 100*2*2),\n",
        "                                 nn.BatchNorm1d(100*2*2),\n",
        "                                 nn.ReLU()) \n",
        "        \n",
        "        self.fc2 = nn.Linear(100*2*2, 1)\n",
        "        self.dropout = nn.Dropout(0.3)\n",
        "\n",
        "        \n",
        "    def forward(self, ids, mask):\n",
        "        output = self.distilbert(ids, attention_mask = mask)\n",
        "        x = output[0]\n",
        "        out1, (h_n, c_n) = self.lstm1(x)\n",
        "        x, _ = self.atten1(out1)\n",
        "\n",
        "        out2, (h_n, c_n) = self.lstm2(out1)\n",
        "        y, _ = self.atten2(out2)\n",
        "        \n",
        "        z = torch.cat([x, y], dim = 1)\n",
        "        z = self.fc1(self.dropout(z))\n",
        "        z = self.fc2(self.dropout(z))\n",
        "        \n",
        "        return torch.sigmoid(z)"
      ],
      "metadata": {
        "id": "MXH_2P1TbWcX"
      },
      "execution_count": null,
      "outputs": []
    },
    {
      "cell_type": "code",
      "source": [
        "transformers.logging.set_verbosity_error()"
      ],
      "metadata": {
        "id": "hzqElh6jlqML"
      },
      "execution_count": null,
      "outputs": []
    },
    {
      "cell_type": "code",
      "source": [
        "def loss_function(outputs, targets):\n",
        "    # function to define the loss function\n",
        "    outputs = torch.squeeze(outputs)\n",
        "    return nn.BCELoss()((outputs), targets)\n",
        "\n",
        "\n",
        "def evaluation_metrics(data_loader, model, device, is_train = True):\n",
        "    # function to return the all the metric values per epoch in list format\n",
        "\n",
        "    # setting model to evaluation mode\n",
        "    if not is_train:\n",
        "        model.eval()\n",
        "\n",
        "    # list to store outputs and targets\n",
        "    fin_targets = []\n",
        "    fin_outputs = []\n",
        "    \n",
        "    with torch.no_grad():\n",
        "\n",
        "        # variable to store the total loss for all data\n",
        "        total_loss = 0\n",
        "        \n",
        "        for batch in data_loader:\n",
        "            ids = batch[\"ids\"].to(device, dtype = torch.long)\n",
        "            mask = batch[\"mask\"].to(device, dtype = torch.long)\n",
        "            targets = batch[\"targets\"].to(device, dtype = torch.float32)\n",
        "\n",
        "            outputs = model(ids = ids, mask = mask)\n",
        "            total_loss += loss_function(outputs, targets).item()\n",
        "\n",
        "            fin_targets.extend(targets.cpu().detach().numpy().tolist())\n",
        "            fin_outputs.extend(outputs.cpu().detach().numpy().tolist())\n",
        "            \n",
        "\n",
        "    # converting outputs to final 0, 1 format \n",
        "    final_outputs = np.array(fin_outputs) >=0.5\n",
        "\n",
        "    # calculating the metric scores \n",
        "    f1Score = f1_score(fin_targets, final_outputs)\n",
        "    accuracyScore = accuracy_score(fin_targets, final_outputs)\n",
        "    recallScore = recall_score(fin_targets, final_outputs)\n",
        "    precisionScore = precision_score(fin_targets, final_outputs)\n",
        "    total_loss = total_loss/len(fin_targets)\n",
        "    \n",
        "    return f1Score, accuracyScore, recallScore, precisionScore, total_loss\n",
        "\n",
        "\n",
        "# function for training the network\n",
        "def train_loop(epochs, train_loader, val_loader, model, optimizer, device, scheduler = None):\n",
        "    # list to store the training and validation loss and accuracies per epoch\n",
        "    trainLoss, valLoss = [], []              # loss lists\n",
        "    trainAccLoss, valAccLoss = [], []        # accuracy lists\n",
        "    trainPrecision, valPrecision = [], []    # Precision lists\n",
        "    trainRecall, valRecall = [], []          # Recall lists\n",
        "    trainF1, valF1 = [], []                  # F1 lists\n",
        "\n",
        "    f1Score, accuracyS = 0, 0\n",
        "    \n",
        "    model.train()\n",
        "\n",
        "    # loop for running epoch no. of times\n",
        "    for epoch in range(epochs):\n",
        "        it = 1\n",
        "        print('Epoch: ', epoch + 1)\n",
        "        correct, total = 0, 0\n",
        "\n",
        "        # running training and validation loss (loss per epoch)\n",
        "        training_loss, validation_loss = 0,0\n",
        "        \n",
        "        for batch in train_data_loader:\n",
        "            ids = batch[\"ids\"].to(device, dtype = torch.long)\n",
        "            mask = batch[\"mask\"].to(device, dtype = torch.long)\n",
        "            targets = batch[\"targets\"].to(device, dtype = torch.float32)\n",
        "\n",
        "            outputs = model(ids, mask = mask)\n",
        "\n",
        "            optimizer.zero_grad()\n",
        "            \n",
        "            #calculating the loss\n",
        "            loss = loss_function(outputs, targets)\n",
        "            \n",
        "            # running backprop.\n",
        "            loss.backward()\n",
        "            \n",
        "            optimizer.step()\n",
        "        \n",
        "        # calculating the metric score for current epoch based on the trained mode this step\n",
        "        f1, accuracy, recall, precision, loss = evaluation_metrics(val_data_loader, model, device)\n",
        "        f1_, accuracy_, recall_, precision_, loss_ = evaluation_metrics(train_data_loader, model, device)\n",
        "\n",
        "        print('Train Loss:', loss_, end = \" \")\n",
        "        print('| Val F1:', f1,' | Accuracy:', accuracy, '| Recall:', recall,' | Precision:', precision, \" | Loss: \", loss)\n",
        "            \n",
        "        \n",
        "        # appending losses per epoch\n",
        "        trainLoss.append(loss_)\n",
        "        valLoss.append(loss)\n",
        "        \n",
        "        # appending accuracies per epoch\n",
        "        trainAccLoss.append(accuracy)\n",
        "        valAccLoss.append(accuracy_)\n",
        "\n",
        "        # appending precisions per epoch\n",
        "        trainPrecision.append(precision)\n",
        "        valPrecision.append(precision_) \n",
        "\n",
        "        # appending recall per epoch\n",
        "        trainRecall.append(recall)\n",
        "        valRecall.append(recall_)\n",
        "\n",
        "        # appending f1s per epoch\n",
        "        trainF1.append(f1)\n",
        "        valF1.append(f1_) \n",
        "\n",
        "    return trainLoss, valLoss, trainAccLoss, valAccLoss, trainPrecision, valPrecision, trainRecall, valRecall, trainF1, valF1\n",
        "\n",
        "        \n",
        "\n",
        "def run(model, train_df, device, train_data_loader, val_data_loader):\n",
        "    EPOCHS = 3\n",
        "    \n",
        "    lr = 3e-5 # Actual lr\n",
        "    # lr = 1e-1\n",
        "\n",
        "    num_training_steps = int(len(train_data_loader) * EPOCHS)\n",
        "    optimizer = AdamW(model.parameters(), lr = lr)\n",
        "    # optimizer = SGD(model.parameters(), lr=lr, momentum=0.9)\n",
        "    scheduler = get_linear_schedule_with_warmup(\n",
        "        optimizer,\n",
        "        num_warmup_steps = 0,\n",
        "        num_training_steps = num_training_steps\n",
        "    )\n",
        "    \n",
        "    return train_loop(EPOCHS, train_data_loader, val_data_loader,  model, optimizer, device, scheduler)\n"
      ],
      "metadata": {
        "id": "8RNOtVyB1F8C"
      },
      "execution_count": null,
      "outputs": []
    },
    {
      "cell_type": "code",
      "source": [
        "model = DistilBertModel(VERSION, finetune_BERT = Tr, freezed_layers = []).to(device)\n",
        "trainLoss, valLoss, trainAccLoss, valAccLoss, trainPrecision, valPrecision, trainRecall, valRecall, trainF1, valF1 = run(model, train, device, train_data_loader, val_data_loader)"
      ],
      "metadata": {
        "colab": {
          "base_uri": "https://localhost:8080/"
        },
        "id": "XQWSvGBq2P2m",
        "outputId": "0bee9517-f8ab-4ca6-f100-6bd65cbb11be"
      },
      "execution_count": null,
      "outputs": [
        {
          "output_type": "stream",
          "name": "stdout",
          "text": [
            "Epoch:  1\n",
            "Train Loss: 0.011148475455922006 | Val F1: 0.5185746777862017  | Accuracy: 0.5019607843137255 | Recall: 0.5480769230769231  | Precision: 0.4920863309352518  | Loss:  0.00278750410266951\n",
            "Epoch:  2\n",
            "Train Loss: 0.01098263152387758 | Val F1: 0.4751655629139073  | Accuracy: 0.5027450980392156 | Recall: 0.4599358974358974  | Precision: 0.4914383561643836  | Loss:  0.0027829338990005793\n",
            "Epoch:  3\n",
            "Train Loss: 0.010952884779860643 | Val F1: 0.4771748492678725  | Accuracy: 0.523921568627451 | Recall: 0.4439102564102564  | Precision: 0.515828677839851  | Loss:  0.0027843482354108027\n"
          ]
        }
      ]
    },
    {
      "cell_type": "code",
      "source": [
        "evaluation_metrics(test_data_loader, model, device, is_train = False)"
      ],
      "metadata": {
        "id": "6U-TnRcqm_Gq",
        "colab": {
          "base_uri": "https://localhost:8080/"
        },
        "outputId": "9ee022de-3758-4174-c7ea-6408568ad364"
      },
      "execution_count": null,
      "outputs": [
        {
          "output_type": "execute_result",
          "data": {
            "text/plain": [
              "(0.3786869647954329,\n",
              " 0.5187914517317612,\n",
              " 0.30615384615384617,\n",
              " 0.49625935162094764,\n",
              " 0.011228216511410831)"
            ]
          },
          "metadata": {},
          "execution_count": 77
        }
      ]
    },
    {
      "cell_type": "code",
      "source": [
        "model"
      ],
      "metadata": {
        "id": "W8gWTeFmrjYs",
        "colab": {
          "base_uri": "https://localhost:8080/"
        },
        "outputId": "1594808e-b514-498a-eeae-be0e8c2d771d"
      },
      "execution_count": null,
      "outputs": [
        {
          "output_type": "execute_result",
          "data": {
            "text/plain": [
              "DistilBertModel(\n",
              "  (distilbert): DistilBertModel(\n",
              "    (embeddings): Embeddings(\n",
              "      (word_embeddings): Embedding(30522, 768, padding_idx=0)\n",
              "      (position_embeddings): Embedding(512, 768)\n",
              "      (LayerNorm): LayerNorm((768,), eps=1e-12, elementwise_affine=True)\n",
              "      (dropout): Dropout(p=0.1, inplace=False)\n",
              "    )\n",
              "    (transformer): Transformer(\n",
              "      (layer): ModuleList(\n",
              "        (0): TransformerBlock(\n",
              "          (attention): MultiHeadSelfAttention(\n",
              "            (dropout): Dropout(p=0.1, inplace=False)\n",
              "            (q_lin): Linear(in_features=768, out_features=768, bias=True)\n",
              "            (k_lin): Linear(in_features=768, out_features=768, bias=True)\n",
              "            (v_lin): Linear(in_features=768, out_features=768, bias=True)\n",
              "            (out_lin): Linear(in_features=768, out_features=768, bias=True)\n",
              "          )\n",
              "          (sa_layer_norm): LayerNorm((768,), eps=1e-12, elementwise_affine=True)\n",
              "          (ffn): FFN(\n",
              "            (dropout): Dropout(p=0.1, inplace=False)\n",
              "            (lin1): Linear(in_features=768, out_features=3072, bias=True)\n",
              "            (lin2): Linear(in_features=3072, out_features=768, bias=True)\n",
              "            (activation): GELUActivation()\n",
              "          )\n",
              "          (output_layer_norm): LayerNorm((768,), eps=1e-12, elementwise_affine=True)\n",
              "        )\n",
              "        (1): TransformerBlock(\n",
              "          (attention): MultiHeadSelfAttention(\n",
              "            (dropout): Dropout(p=0.1, inplace=False)\n",
              "            (q_lin): Linear(in_features=768, out_features=768, bias=True)\n",
              "            (k_lin): Linear(in_features=768, out_features=768, bias=True)\n",
              "            (v_lin): Linear(in_features=768, out_features=768, bias=True)\n",
              "            (out_lin): Linear(in_features=768, out_features=768, bias=True)\n",
              "          )\n",
              "          (sa_layer_norm): LayerNorm((768,), eps=1e-12, elementwise_affine=True)\n",
              "          (ffn): FFN(\n",
              "            (dropout): Dropout(p=0.1, inplace=False)\n",
              "            (lin1): Linear(in_features=768, out_features=3072, bias=True)\n",
              "            (lin2): Linear(in_features=3072, out_features=768, bias=True)\n",
              "            (activation): GELUActivation()\n",
              "          )\n",
              "          (output_layer_norm): LayerNorm((768,), eps=1e-12, elementwise_affine=True)\n",
              "        )\n",
              "        (2): TransformerBlock(\n",
              "          (attention): MultiHeadSelfAttention(\n",
              "            (dropout): Dropout(p=0.1, inplace=False)\n",
              "            (q_lin): Linear(in_features=768, out_features=768, bias=True)\n",
              "            (k_lin): Linear(in_features=768, out_features=768, bias=True)\n",
              "            (v_lin): Linear(in_features=768, out_features=768, bias=True)\n",
              "            (out_lin): Linear(in_features=768, out_features=768, bias=True)\n",
              "          )\n",
              "          (sa_layer_norm): LayerNorm((768,), eps=1e-12, elementwise_affine=True)\n",
              "          (ffn): FFN(\n",
              "            (dropout): Dropout(p=0.1, inplace=False)\n",
              "            (lin1): Linear(in_features=768, out_features=3072, bias=True)\n",
              "            (lin2): Linear(in_features=3072, out_features=768, bias=True)\n",
              "            (activation): GELUActivation()\n",
              "          )\n",
              "          (output_layer_norm): LayerNorm((768,), eps=1e-12, elementwise_affine=True)\n",
              "        )\n",
              "        (3): TransformerBlock(\n",
              "          (attention): MultiHeadSelfAttention(\n",
              "            (dropout): Dropout(p=0.1, inplace=False)\n",
              "            (q_lin): Linear(in_features=768, out_features=768, bias=True)\n",
              "            (k_lin): Linear(in_features=768, out_features=768, bias=True)\n",
              "            (v_lin): Linear(in_features=768, out_features=768, bias=True)\n",
              "            (out_lin): Linear(in_features=768, out_features=768, bias=True)\n",
              "          )\n",
              "          (sa_layer_norm): LayerNorm((768,), eps=1e-12, elementwise_affine=True)\n",
              "          (ffn): FFN(\n",
              "            (dropout): Dropout(p=0.1, inplace=False)\n",
              "            (lin1): Linear(in_features=768, out_features=3072, bias=True)\n",
              "            (lin2): Linear(in_features=3072, out_features=768, bias=True)\n",
              "            (activation): GELUActivation()\n",
              "          )\n",
              "          (output_layer_norm): LayerNorm((768,), eps=1e-12, elementwise_affine=True)\n",
              "        )\n",
              "        (4): TransformerBlock(\n",
              "          (attention): MultiHeadSelfAttention(\n",
              "            (dropout): Dropout(p=0.1, inplace=False)\n",
              "            (q_lin): Linear(in_features=768, out_features=768, bias=True)\n",
              "            (k_lin): Linear(in_features=768, out_features=768, bias=True)\n",
              "            (v_lin): Linear(in_features=768, out_features=768, bias=True)\n",
              "            (out_lin): Linear(in_features=768, out_features=768, bias=True)\n",
              "          )\n",
              "          (sa_layer_norm): LayerNorm((768,), eps=1e-12, elementwise_affine=True)\n",
              "          (ffn): FFN(\n",
              "            (dropout): Dropout(p=0.1, inplace=False)\n",
              "            (lin1): Linear(in_features=768, out_features=3072, bias=True)\n",
              "            (lin2): Linear(in_features=3072, out_features=768, bias=True)\n",
              "            (activation): GELUActivation()\n",
              "          )\n",
              "          (output_layer_norm): LayerNorm((768,), eps=1e-12, elementwise_affine=True)\n",
              "        )\n",
              "        (5): TransformerBlock(\n",
              "          (attention): MultiHeadSelfAttention(\n",
              "            (dropout): Dropout(p=0.1, inplace=False)\n",
              "            (q_lin): Linear(in_features=768, out_features=768, bias=True)\n",
              "            (k_lin): Linear(in_features=768, out_features=768, bias=True)\n",
              "            (v_lin): Linear(in_features=768, out_features=768, bias=True)\n",
              "            (out_lin): Linear(in_features=768, out_features=768, bias=True)\n",
              "          )\n",
              "          (sa_layer_norm): LayerNorm((768,), eps=1e-12, elementwise_affine=True)\n",
              "          (ffn): FFN(\n",
              "            (dropout): Dropout(p=0.1, inplace=False)\n",
              "            (lin1): Linear(in_features=768, out_features=3072, bias=True)\n",
              "            (lin2): Linear(in_features=3072, out_features=768, bias=True)\n",
              "            (activation): GELUActivation()\n",
              "          )\n",
              "          (output_layer_norm): LayerNorm((768,), eps=1e-12, elementwise_affine=True)\n",
              "        )\n",
              "      )\n",
              "    )\n",
              "  )\n",
              "  (lstm1): LSTM(768, 100, batch_first=True, bidirectional=True)\n",
              "  (atten1): Attention()\n",
              "  (atten2): Attention()\n",
              "  (lstm2): LSTM(200, 100, batch_first=True, bidirectional=True)\n",
              "  (fc1): Sequential(\n",
              "    (0): Linear(in_features=400, out_features=400, bias=True)\n",
              "    (1): BatchNorm1d(400, eps=1e-05, momentum=0.1, affine=True, track_running_stats=True)\n",
              "    (2): ReLU()\n",
              "  )\n",
              "  (fc2): Linear(in_features=400, out_features=1, bias=True)\n",
              "  (dropout): Dropout(p=0.3, inplace=False)\n",
              ")"
            ]
          },
          "metadata": {},
          "execution_count": 37
        }
      ]
    },
    {
      "cell_type": "code",
      "source": [
        "# Plots.\n",
        "noOfEpochs = 3\n",
        "plt.plot(list(range(noOfEpochs)), trainLoss)\n",
        "plt.plot(list(range(noOfEpochs)), valLoss)\n",
        "plt.show()\n",
        "\n",
        "\n",
        "plt.plot(list(range(noOfEpochs)), trainAccLoss)\n",
        "plt.plot(list(range(noOfEpochs)), valAccLoss)\n",
        "plt.show()\n",
        "\n",
        "\n",
        "plt.plot(list(range(noOfEpochs)), trainPrecision)\n",
        "plt.plot(list(range(noOfEpochs)), valPrecision)\n",
        "plt.show()\n",
        "\n",
        "\n",
        "plt.plot(list(range(noOfEpochs)), trainRecall)\n",
        "plt.plot(list(range(noOfEpochs)), valRecall)\n",
        "plt.show()\n",
        "\n",
        "plt.plot(list(range(noOfEpochs)), trainF1)\n",
        "plt.plot(list(range(noOfEpochs)), valF1)\n",
        "plt.show()"
      ],
      "metadata": {
        "colab": {
          "base_uri": "https://localhost:8080/",
          "height": 1000
        },
        "id": "wnGTSRyxCOA_",
        "outputId": "add4c80f-83f3-4e9b-d18e-0f6d8227b545"
      },
      "execution_count": null,
      "outputs": [
        {
          "output_type": "display_data",
          "data": {
            "text/plain": [
              "<Figure size 432x288 with 1 Axes>"
            ],
            "image/png": "[encoded data removed]"
          },
          "metadata": {
            "needs_background": "light"
          }
        },
        {
          "output_type": "display_data",
          "data": {
            "text/plain": [
              "<Figure size 432x288 with 1 Axes>"
            ],
            "image/png": "[encoded data removed]"
          },
          "metadata": {
            "needs_background": "light"
          }
        },
        {
          "output_type": "display_data",
          "data": {
            "text/plain": [
              "<Figure size 432x288 with 1 Axes>"
            ],
            "image/png": "[encoded data removed]"
          },
          "metadata": {
            "needs_background": "light"
          }
        },
        {
          "output_type": "display_data",
          "data": {
            "text/plain": [
              "<Figure size 432x288 with 1 Axes>"
            ],
            "image/png": "[encoded data removed]"
          },
          "metadata": {
            "needs_background": "light"
          }
        },
        {
          "output_type": "display_data",
          "data": {
            "text/plain": [
              "<Figure size 432x288 with 1 Axes>"
            ],
            "image/png": "[encoded data removed]"
          },
          "metadata": {
            "needs_background": "light"
          }
        }
      ]
    },
    {
      "cell_type": "code",
      "source": [
        "PATH = \"/content/m3-lstm2-t71.pt\"\n",
        "# torch.save(model.state_dict(), PATH)\n",
        "model_saved = DistilBertModel(VERSION, finetune_BERT = True, freezed_layers = [-1, 0, 1, 2, 3, 4, 5]).to(device)\n",
        "model_saved.load_state_dict(torch.load(PATH))\n",
        "model_saved.eval()"
      ],
      "metadata": {
        "colab": {
          "base_uri": "https://localhost:8080/"
        },
        "id": "BcYjM9aqByJX",
        "outputId": "0714b034-2770-4a59-ba5c-7f94294f13e7"
      },
      "execution_count": null,
      "outputs": [
        {
          "output_type": "execute_result",
          "data": {
            "text/plain": [
              "DistilBertModel(\n",
              "  (distilbert): DistilBertModel(\n",
              "    (embeddings): Embeddings(\n",
              "      (word_embeddings): Embedding(30522, 768, padding_idx=0)\n",
              "      (position_embeddings): Embedding(512, 768)\n",
              "      (LayerNorm): LayerNorm((768,), eps=1e-12, elementwise_affine=True)\n",
              "      (dropout): Dropout(p=0.1, inplace=False)\n",
              "    )\n",
              "    (transformer): Transformer(\n",
              "      (layer): ModuleList(\n",
              "        (0): TransformerBlock(\n",
              "          (attention): MultiHeadSelfAttention(\n",
              "            (dropout): Dropout(p=0.1, inplace=False)\n",
              "            (q_lin): Linear(in_features=768, out_features=768, bias=True)\n",
              "            (k_lin): Linear(in_features=768, out_features=768, bias=True)\n",
              "            (v_lin): Linear(in_features=768, out_features=768, bias=True)\n",
              "            (out_lin): Linear(in_features=768, out_features=768, bias=True)\n",
              "          )\n",
              "          (sa_layer_norm): LayerNorm((768,), eps=1e-12, elementwise_affine=True)\n",
              "          (ffn): FFN(\n",
              "            (dropout): Dropout(p=0.1, inplace=False)\n",
              "            (lin1): Linear(in_features=768, out_features=3072, bias=True)\n",
              "            (lin2): Linear(in_features=3072, out_features=768, bias=True)\n",
              "            (activation): GELUActivation()\n",
              "          )\n",
              "          (output_layer_norm): LayerNorm((768,), eps=1e-12, elementwise_affine=True)\n",
              "        )\n",
              "        (1): TransformerBlock(\n",
              "          (attention): MultiHeadSelfAttention(\n",
              "            (dropout): Dropout(p=0.1, inplace=False)\n",
              "            (q_lin): Linear(in_features=768, out_features=768, bias=True)\n",
              "            (k_lin): Linear(in_features=768, out_features=768, bias=True)\n",
              "            (v_lin): Linear(in_features=768, out_features=768, bias=True)\n",
              "            (out_lin): Linear(in_features=768, out_features=768, bias=True)\n",
              "          )\n",
              "          (sa_layer_norm): LayerNorm((768,), eps=1e-12, elementwise_affine=True)\n",
              "          (ffn): FFN(\n",
              "            (dropout): Dropout(p=0.1, inplace=False)\n",
              "            (lin1): Linear(in_features=768, out_features=3072, bias=True)\n",
              "            (lin2): Linear(in_features=3072, out_features=768, bias=True)\n",
              "            (activation): GELUActivation()\n",
              "          )\n",
              "          (output_layer_norm): LayerNorm((768,), eps=1e-12, elementwise_affine=True)\n",
              "        )\n",
              "        (2): TransformerBlock(\n",
              "          (attention): MultiHeadSelfAttention(\n",
              "            (dropout): Dropout(p=0.1, inplace=False)\n",
              "            (q_lin): Linear(in_features=768, out_features=768, bias=True)\n",
              "            (k_lin): Linear(in_features=768, out_features=768, bias=True)\n",
              "            (v_lin): Linear(in_features=768, out_features=768, bias=True)\n",
              "            (out_lin): Linear(in_features=768, out_features=768, bias=True)\n",
              "          )\n",
              "          (sa_layer_norm): LayerNorm((768,), eps=1e-12, elementwise_affine=True)\n",
              "          (ffn): FFN(\n",
              "            (dropout): Dropout(p=0.1, inplace=False)\n",
              "            (lin1): Linear(in_features=768, out_features=3072, bias=True)\n",
              "            (lin2): Linear(in_features=3072, out_features=768, bias=True)\n",
              "            (activation): GELUActivation()\n",
              "          )\n",
              "          (output_layer_norm): LayerNorm((768,), eps=1e-12, elementwise_affine=True)\n",
              "        )\n",
              "        (3): TransformerBlock(\n",
              "          (attention): MultiHeadSelfAttention(\n",
              "            (dropout): Dropout(p=0.1, inplace=False)\n",
              "            (q_lin): Linear(in_features=768, out_features=768, bias=True)\n",
              "            (k_lin): Linear(in_features=768, out_features=768, bias=True)\n",
              "            (v_lin): Linear(in_features=768, out_features=768, bias=True)\n",
              "            (out_lin): Linear(in_features=768, out_features=768, bias=True)\n",
              "          )\n",
              "          (sa_layer_norm): LayerNorm((768,), eps=1e-12, elementwise_affine=True)\n",
              "          (ffn): FFN(\n",
              "            (dropout): Dropout(p=0.1, inplace=False)\n",
              "            (lin1): Linear(in_features=768, out_features=3072, bias=True)\n",
              "            (lin2): Linear(in_features=3072, out_features=768, bias=True)\n",
              "            (activation): GELUActivation()\n",
              "          )\n",
              "          (output_layer_norm): LayerNorm((768,), eps=1e-12, elementwise_affine=True)\n",
              "        )\n",
              "        (4): TransformerBlock(\n",
              "          (attention): MultiHeadSelfAttention(\n",
              "            (dropout): Dropout(p=0.1, inplace=False)\n",
              "            (q_lin): Linear(in_features=768, out_features=768, bias=True)\n",
              "            (k_lin): Linear(in_features=768, out_features=768, bias=True)\n",
              "            (v_lin): Linear(in_features=768, out_features=768, bias=True)\n",
              "            (out_lin): Linear(in_features=768, out_features=768, bias=True)\n",
              "          )\n",
              "          (sa_layer_norm): LayerNorm((768,), eps=1e-12, elementwise_affine=True)\n",
              "          (ffn): FFN(\n",
              "            (dropout): Dropout(p=0.1, inplace=False)\n",
              "            (lin1): Linear(in_features=768, out_features=3072, bias=True)\n",
              "            (lin2): Linear(in_features=3072, out_features=768, bias=True)\n",
              "            (activation): GELUActivation()\n",
              "          )\n",
              "          (output_layer_norm): LayerNorm((768,), eps=1e-12, elementwise_affine=True)\n",
              "        )\n",
              "        (5): TransformerBlock(\n",
              "          (attention): MultiHeadSelfAttention(\n",
              "            (dropout): Dropout(p=0.1, inplace=False)\n",
              "            (q_lin): Linear(in_features=768, out_features=768, bias=True)\n",
              "            (k_lin): Linear(in_features=768, out_features=768, bias=True)\n",
              "            (v_lin): Linear(in_features=768, out_features=768, bias=True)\n",
              "            (out_lin): Linear(in_features=768, out_features=768, bias=True)\n",
              "          )\n",
              "          (sa_layer_norm): LayerNorm((768,), eps=1e-12, elementwise_affine=True)\n",
              "          (ffn): FFN(\n",
              "            (dropout): Dropout(p=0.1, inplace=False)\n",
              "            (lin1): Linear(in_features=768, out_features=3072, bias=True)\n",
              "            (lin2): Linear(in_features=3072, out_features=768, bias=True)\n",
              "            (activation): GELUActivation()\n",
              "          )\n",
              "          (output_layer_norm): LayerNorm((768,), eps=1e-12, elementwise_affine=True)\n",
              "        )\n",
              "      )\n",
              "    )\n",
              "  )\n",
              "  (lstm1): LSTM(768, 100, batch_first=True, bidirectional=True)\n",
              "  (atten1): Attention()\n",
              "  (atten2): Attention()\n",
              "  (lstm2): LSTM(200, 100, batch_first=True, bidirectional=True)\n",
              "  (fc1): Sequential(\n",
              "    (0): Linear(in_features=400, out_features=400, bias=True)\n",
              "    (1): BatchNorm1d(400, eps=1e-05, momentum=0.1, affine=True, track_running_stats=True)\n",
              "    (2): ReLU()\n",
              "  )\n",
              "  (fc2): Linear(in_features=400, out_features=1, bias=True)\n",
              "  (dropout): Dropout(p=0.3, inplace=False)\n",
              ")"
            ]
          },
          "metadata": {},
          "execution_count": 163
        }
      ]
    },
    {
      "cell_type": "code",
      "source": [
        "# Misclassified samples.\n",
        "\n",
        "fin_targets = []\n",
        "fin_outputs = []\n",
        "fin_inputs = []\n",
        "    \n",
        "with torch.no_grad():\n",
        "    total_loss = 0\n",
        "        \n",
        "    for batch in test_data_loader:\n",
        "        ids = batch[\"ids\"].to(device, dtype = torch.long)\n",
        "        mask = batch[\"mask\"].to(device, dtype = torch.long)\n",
        "        targets = batch[\"targets\"].to(device, dtype = torch.float32)\n",
        "\n",
        "        for sample in range(ids.shape[0]):\n",
        "            prediction_as_text = tokenizer.decode(ids[sample], skip_special_tokens=False)\n",
        "            fin_inputs.append(prediction_as_text)\n",
        "    \n",
        "\n",
        "        outputs = model(ids = ids, mask = mask)\n",
        "        \n",
        "        fin_targets.extend(targets.cpu().detach().numpy().tolist())\n",
        "        fin_outputs.extend(outputs.cpu().detach().numpy().tolist())\n",
        "        \n",
        "\n",
        "final_outputs = np.array(fin_outputs) >=0.5"
      ],
      "metadata": {
        "id": "MECBxupYKs0X"
      },
      "execution_count": null,
      "outputs": []
    },
    {
      "cell_type": "code",
      "source": [
        "count = 0\n",
        "for i in range(len(final_outputs)):\n",
        "    if (bool(fin_targets[i]) != final_outputs[i][0]):\n",
        "        count += 1\n",
        "        print(fin_inputs[i])\n",
        "        print(fin_targets[i])\n",
        "\n",
        "        if (count == 10):\n",
        "            break"
      ],
      "metadata": {
        "colab": {
          "base_uri": "https://localhost:8080/"
        },
        "id": "9ToA6Jgug_bQ",
        "outputId": "5e1382a7-2fa3-41a5-e177-c9a3ec915fe8"
      },
      "execution_count": null,
      "outputs": [
        {
          "output_type": "stream",
          "name": "stdout",
          "text": [
            "[CLS] the use of it tools and methods to collect, process, consolidate, store, and secure data from sources that are often fragmented and inconsistent [SEP] facilities, processes, and procedures used to collect, store, and distribute information between producers and consumers of information in physical or electronic format [SEP] [PAD] [PAD] [PAD] [PAD] [PAD] [PAD] [PAD] [PAD] [PAD] [PAD] [PAD] [PAD] [PAD] [PAD] [PAD] [PAD] [PAD]\n",
            "[CLS] source code is compiled into this, and it is then processed by a computer [SEP] a code that is processed by a computer and is copied from a source code [SEP] [PAD] [PAD] [PAD] [PAD] [PAD] [PAD] [PAD] [PAD] [PAD] [PAD] [PAD] [PAD] [PAD] [PAD] [PAD] [PAD] [PAD] [PAD] [PAD] [PAD] [PAD] [PAD] [PAD] [PAD] [PAD] [PAD] [PAD] [PAD] [PAD] [PAD] [PAD] [PAD] [PAD] [PAD] [PAD] [PAD] [PAD] [PAD] [PAD] [PAD]\n"
          ]
        }
      ]
    },
    {
      "cell_type": "code",
      "source": [
        "evaluation_metrics(test_data_loader, model_saved, device, is_train = False)"
      ],
      "metadata": {
        "colab": {
          "base_uri": "https://localhost:8080/"
        },
        "id": "6EBuHYkPCLcX",
        "outputId": "96266f02-3b1e-4e85-8e22-de937b7918d7"
      },
      "execution_count": null,
      "outputs": [
        {
          "output_type": "execute_result",
          "data": {
            "text/plain": [
              "(0.7163232963549919,\n",
              " 0.7361827560795873,\n",
              " 0.6953846153846154,\n",
              " 0.738562091503268,\n",
              " 0.008926547662950037)"
            ]
          },
          "metadata": {},
          "execution_count": 164
        }
      ]
    }
  ]
}